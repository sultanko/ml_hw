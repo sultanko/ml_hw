{
 "cells": [
  {
   "cell_type": "code",
   "execution_count": null,
   "metadata": {},
   "outputs": [],
   "source": [
    "%matplotlib inline\n",
    "import numpy as np\n",
    "import pandas as pd\n",
    "import matplotlib.pyplot as plt\n",
    "\n",
    "from collections import Counter\n",
    "from sklearn.cross_validation import KFold\n",
    "from sklearn.model_selection import train_test_split\n",
    "from sklearn.preprocessing import MinMaxScaler, StandardScaler\n",
    "from math import sqrt\n",
    "\n",
    "from scipy import randn"
   ]
  },
  {
   "cell_type": "code",
   "execution_count": null,
   "metadata": {},
   "outputs": [],
   "source": [
    "data = pd.read_csv('data/prices.txt')"
   ]
  },
  {
   "cell_type": "code",
   "execution_count": null,
   "metadata": {},
   "outputs": [],
   "source": [
    "data.head()"
   ]
  },
  {
   "cell_type": "code",
   "execution_count": null,
   "metadata": {},
   "outputs": [],
   "source": [
    "plot1 = data.plot(kind='scatter', x='area', y='price', c='rooms', grid=True)\n",
    "#plot1.set_facecolor(\"gray\")"
   ]
  },
  {
   "cell_type": "code",
   "execution_count": null,
   "metadata": {},
   "outputs": [],
   "source": [
    "data.plot(kind = 'scatter', x = 'rooms', y='price')"
   ]
  },
  {
   "cell_type": "code",
   "execution_count": null,
   "metadata": {},
   "outputs": [],
   "source": [
    "data.plot(kind = 'scatter', x = 'area', y='price')"
   ]
  },
  {
   "cell_type": "code",
   "execution_count": null,
   "metadata": {},
   "outputs": [],
   "source": [
    "X = data[['area', 'rooms']]\n",
    "y = np.array(list(map(float, data['price'])))"
   ]
  },
  {
   "cell_type": "code",
   "execution_count": null,
   "metadata": {},
   "outputs": [],
   "source": [
    "def standard_transform(x):\n",
    "    return StandardScaler().fit_transform(x)\n",
    "\n",
    "def append_one(x):\n",
    "    return np.append(np.ones(len(x)).reshape((len(x), 1)), x, axis=1)"
   ]
  },
  {
   "cell_type": "code",
   "execution_count": null,
   "metadata": {},
   "outputs": [],
   "source": [
    "scalerX = StandardScaler()\n",
    "scalerY = StandardScaler()\n",
    "initX = X\n",
    "X = scalerX.fit_transform(X)\n",
    "X = append_one(X)\n",
    "initX = append_one(initX)\n",
    "\n",
    "y = scalerY.fit_transform(y.reshape(len(y), 1)).reshape(len(y))\n"
   ]
  },
  {
   "cell_type": "code",
   "execution_count": null,
   "metadata": {},
   "outputs": [],
   "source": [
    "def first_price(p):    \n",
    "    return scalerY.inverse_transform([p])[0]    \n",
    "    \n",
    "def get_mse(regressor, xs, ys):    \n",
    "    predicted = np.apply_along_axis(regressor.predict, 1, xs)\n",
    "    return sqrt((\n",
    "        (scalerY.inverse_transform(predicted) - scalerY.inverse_transform(ys)) ** 2)\n",
    "                .mean())\n"
   ]
  },
  {
   "cell_type": "code",
   "execution_count": null,
   "metadata": {},
   "outputs": [],
   "source": [
    "class LinearRegression:\n",
    "    def __init__(self, w = None, linearCoef = 0.5, numIter = 100, eps = 1e-9):\n",
    "        self.baseW = w\n",
    "        self.linearCoef = linearCoef   \n",
    "        self.numIter = numIter\n",
    "        self.eps = eps\n",
    "        \n",
    "    def _grad_descend(self):\n",
    "        Xt = self.X.transpose()\n",
    "        m = self.X.shape[0]\n",
    "        mse = None\n",
    "        w = self.baseW\n",
    "        for i in range(self.numIter):\n",
    "            h = np.dot(self.X, w)\n",
    "            diff = h - self.y\n",
    "            grad = 2 * np.dot(Xt, diff) / m            \n",
    "            w -= (self.linearCoef[i] * grad)\n",
    "            if (self.linearCoef[i] * np.sum(grad ** 2) < self.eps):                \n",
    "                break\n",
    "            \n",
    "        self.w = w      \n",
    "    \n",
    "    def fit(self, X, y):\n",
    "        self.X = X\n",
    "        self.y = y      \n",
    "        self._grad_descend()\n",
    "\n",
    "    def predict(self, X):               \n",
    "        return np.dot(X, self.w)\n",
    "    \n",
    "    def weights(self):\n",
    "        return self.w\n"
   ]
  },
  {
   "cell_type": "code",
   "execution_count": null,
   "metadata": {
    "scrolled": false
   },
   "outputs": [],
   "source": [
    "%%time\n",
    "\n",
    "m, n = X.shape\n",
    "w = np.ones(n)\n",
    "numIter = 100\n",
    "linearCoef = [0.5] * numIter\n",
    "linearReg = LinearRegression(w = w, linearCoef = linearCoef, numIter = numIter)\n",
    "linearReg.fit(X, y)\n",
    "\n",
    "print (linearReg.weights())\n",
    "print (get_mse(linearReg, X, y))"
   ]
  },
  {
   "cell_type": "code",
   "execution_count": null,
   "metadata": {},
   "outputs": [],
   "source": [
    "def show_separator(weights):\n",
    "    tX = X.transpose()\n",
    "    for i, x in enumerate(initX.transpose()[1:], 1):                \n",
    "        plt.scatter(x, scalerY.inverse_transform(y)) \n",
    "        plt.plot([x.min(), x.max()], [first_price(weights[0] + weights[i] * tX[i].min()),\n",
    "                                      first_price(weights[0] + weights[i] * tX[i].max())])      \n",
    "        plt.ylabel('Price')\n",
    "        plt.xlabel('%s' % ['area', 'rooms'][i-1])\n",
    "        plt.show()"
   ]
  },
  {
   "cell_type": "code",
   "execution_count": null,
   "metadata": {},
   "outputs": [],
   "source": [
    "linW = linearReg.weights()\n",
    "show_separator(linW)"
   ]
  },
  {
   "cell_type": "code",
   "execution_count": null,
   "metadata": {},
   "outputs": [],
   "source": [
    "np.random.seed(53)\n",
    "\n",
    "class GeneticReg:\n",
    "    def __init__(self, numIter = 100, popSize = 50, mutationCount = 5):        \n",
    "        self.numIter = numIter\n",
    "        self.popSize = popSize\n",
    "        self.mutationCount = mutationCount        \n",
    "        \n",
    "    def mutation(self, pop):            \n",
    "        return pop + randn(*pop.shape)\n",
    "    \n",
    "    def gen_optimize(self):\n",
    "        m, n = self.X.shape\n",
    "        pop = np.zeros((self.popSize, n))\n",
    "        pops = []\n",
    "        mses = []        \n",
    "       \n",
    "        for i in range(self.numIter):\n",
    "            pops = pop.copy()\n",
    "            for j in range(self.mutationCount):\n",
    "                pops = np.append(pops, self.mutation(pop), axis=0)\n",
    "                        \n",
    "            mses = []\n",
    "            for j, single_pop in enumerate(pops):\n",
    "                h = np.dot(X, single_pop)\n",
    "                diff = h - y\n",
    "                mse = np.sum(diff ** 2) / (m)\n",
    "                mses.append((mse, j))\n",
    "            mses = sorted(mses)\n",
    "            pop = pops[mses[0][1]].reshape(1, len(pops[mses[0][1]]))\n",
    "            \n",
    "            for _, j in mses[1:self.popSize]:\n",
    "                pop = np.append(pop, pops[j].reshape(1, len(pops[j])), axis=0)                                    \n",
    "        \n",
    "        self.w = pops[mses[0][1]]\n",
    "    \n",
    "    def fit(self, X, y):\n",
    "        self.X = X\n",
    "        self.y = y      \n",
    "        self.gen_optimize()\n",
    "\n",
    "    def predict(self, X):               \n",
    "        return np.dot(X, self.w)\n",
    "    \n",
    "    def weights(self):\n",
    "        return self.w"
   ]
  },
  {
   "cell_type": "code",
   "execution_count": null,
   "metadata": {},
   "outputs": [],
   "source": [
    "#iterAr = [100, 500, 1000]\n",
    "#for ni in iterAr:\n",
    "    #mseGen = []\n",
    "    #for i in range(10):        \n",
    "        #genTest = GeneticReg(numIter = ni, popSize = 30, mutationCount = 5)\n",
    "        #genTest.fit(X, y)\n",
    "        #mseGen.append(get_mse(genTest, X, y))\n",
    "    #print (\"Iter count: %d\" % ni)\n",
    "    #print (\"Average: %d\" % np.mean(mseGen))\n",
    "    #print (\"Minimum: %d\" % np.min(mseGen))\n",
    "    #print (\"Maximum: %d\" % np.max(mseGen))\n",
    "    "
   ]
  },
  {
   "cell_type": "code",
   "execution_count": null,
   "metadata": {},
   "outputs": [],
   "source": [
    "%%time\n",
    "\n",
    "genReg = GeneticReg(numIter = 500, popSize = 50, mutationCount = 5)\n",
    "genReg.fit(X, y)\n",
    "print (get_mse(genReg, X, y))\n",
    "print (genReg.weights())"
   ]
  },
  {
   "cell_type": "code",
   "execution_count": null,
   "metadata": {},
   "outputs": [],
   "source": [
    "genW = genReg.weights()\n",
    "show_separator(genW)"
   ]
  },
  {
   "cell_type": "code",
   "execution_count": null,
   "metadata": {},
   "outputs": [],
   "source": [
    "exX = [[2100., 3.]]\n",
    "exX = append_one(scalerX.transform(exX))\n",
    "\n",
    "print (first_price(linearReg.predict(exX)))\n",
    "print (first_price(genReg.predict(exX)))"
   ]
  },
  {
   "cell_type": "code",
   "execution_count": null,
   "metadata": {},
   "outputs": [],
   "source": []
  }
 ],
 "metadata": {
  "kernelspec": {
   "display_name": "Python 3",
   "language": "python",
   "name": "python3"
  },
  "language_info": {
   "codemirror_mode": {
    "name": "ipython",
    "version": 3
   },
   "file_extension": ".py",
   "mimetype": "text/x-python",
   "name": "python",
   "nbconvert_exporter": "python",
   "pygments_lexer": "ipython3",
   "version": "3.5.2"
  }
 },
 "nbformat": 4,
 "nbformat_minor": 2
}
