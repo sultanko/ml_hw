{
 "cells": [
  {
   "cell_type": "code",
   "execution_count": 80,
   "metadata": {},
   "outputs": [],
   "source": [
    "%matplotlib inline\n",
    "import pandas as pd\n",
    "import scipy as sp\n",
    "import numpy as np\n",
    "import matplotlib.pyplot as plt\n",
    "import seaborn as sns\n",
    "import glob\n",
    "\n",
    "from math import ceil, log\n",
    "from sklearn.base import BaseEstimator\n",
    "from sklearn.cross_validation import cross_val_score, train_test_split\n",
    "from sklearn.metrics import confusion_matrix, make_scorer"
   ]
  },
  {
   "cell_type": "code",
   "execution_count": 2,
   "metadata": {
    "collapsed": true
   },
   "outputs": [],
   "source": [
    "def add_map(mp, key, val):\n",
    "    if key not in mp:\n",
    "        mp[key] = val\n",
    "    else:\n",
    "        mp[key] += val\n",
    "\n",
    "def make_data_entry(filename):\n",
    "    res = {}\n",
    "    res['is_spam'] = \"spmsg\" in filename\n",
    "    with open(filename, 'r') as f:\n",
    "        l = next(f)\n",
    "        for n in l.split()[1:]:\n",
    "            res[int(n)] = 1\n",
    "        for l in f:\n",
    "            for n in l.split():\n",
    "                res[int(n)] = 1\n",
    "    return res    \n",
    "\n",
    "def make_dataset():\n",
    "    files = glob.glob('data/part*/*.txt')\n",
    "    entries = list(map(make_data_entry, files))\n",
    "    return pd.DataFrame.from_dict(entries)"
   ]
  },
  {
   "cell_type": "code",
   "execution_count": 3,
   "metadata": {
    "collapsed": true
   },
   "outputs": [],
   "source": [
    "data = make_dataset().fillna(0)"
   ]
  },
  {
   "cell_type": "code",
   "execution_count": 4,
   "metadata": {
    "scrolled": true
   },
   "outputs": [
    {
     "data": {
      "text/html": [
       "<div>\n",
       "<style>\n",
       "    .dataframe thead tr:only-child th {\n",
       "        text-align: right;\n",
       "    }\n",
       "\n",
       "    .dataframe thead th {\n",
       "        text-align: left;\n",
       "    }\n",
       "\n",
       "    .dataframe tbody tr th {\n",
       "        vertical-align: top;\n",
       "    }\n",
       "</style>\n",
       "<table border=\"1\" class=\"dataframe\">\n",
       "  <thead>\n",
       "    <tr style=\"text-align: right;\">\n",
       "      <th></th>\n",
       "      <th>is_spam</th>\n",
       "      <th>14486</th>\n",
       "      <th>80</th>\n",
       "      <th>196</th>\n",
       "      <th>64</th>\n",
       "      <th>1896</th>\n",
       "      <th>8962</th>\n",
       "      <th>14328</th>\n",
       "      <th>2130</th>\n",
       "      <th>16502</th>\n",
       "      <th>...</th>\n",
       "      <th>15561</th>\n",
       "      <th>15330</th>\n",
       "      <th>11289</th>\n",
       "      <th>547</th>\n",
       "      <th>15318</th>\n",
       "      <th>238</th>\n",
       "      <th>21957</th>\n",
       "      <th>1402</th>\n",
       "      <th>17219</th>\n",
       "      <th>19609</th>\n",
       "    </tr>\n",
       "  </thead>\n",
       "  <tbody>\n",
       "    <tr>\n",
       "      <th>0</th>\n",
       "      <td>True</td>\n",
       "      <td>1.0</td>\n",
       "      <td>1.0</td>\n",
       "      <td>1.0</td>\n",
       "      <td>1.0</td>\n",
       "      <td>1.0</td>\n",
       "      <td>1.0</td>\n",
       "      <td>1.0</td>\n",
       "      <td>1.0</td>\n",
       "      <td>1.0</td>\n",
       "      <td>...</td>\n",
       "      <td>0.0</td>\n",
       "      <td>0.0</td>\n",
       "      <td>0.0</td>\n",
       "      <td>0.0</td>\n",
       "      <td>0.0</td>\n",
       "      <td>0.0</td>\n",
       "      <td>0.0</td>\n",
       "      <td>0.0</td>\n",
       "      <td>0.0</td>\n",
       "      <td>0.0</td>\n",
       "    </tr>\n",
       "    <tr>\n",
       "      <th>1</th>\n",
       "      <td>True</td>\n",
       "      <td>0.0</td>\n",
       "      <td>1.0</td>\n",
       "      <td>0.0</td>\n",
       "      <td>1.0</td>\n",
       "      <td>0.0</td>\n",
       "      <td>1.0</td>\n",
       "      <td>0.0</td>\n",
       "      <td>1.0</td>\n",
       "      <td>1.0</td>\n",
       "      <td>...</td>\n",
       "      <td>0.0</td>\n",
       "      <td>0.0</td>\n",
       "      <td>0.0</td>\n",
       "      <td>0.0</td>\n",
       "      <td>0.0</td>\n",
       "      <td>0.0</td>\n",
       "      <td>0.0</td>\n",
       "      <td>0.0</td>\n",
       "      <td>0.0</td>\n",
       "      <td>0.0</td>\n",
       "    </tr>\n",
       "    <tr>\n",
       "      <th>2</th>\n",
       "      <td>True</td>\n",
       "      <td>0.0</td>\n",
       "      <td>1.0</td>\n",
       "      <td>0.0</td>\n",
       "      <td>0.0</td>\n",
       "      <td>0.0</td>\n",
       "      <td>1.0</td>\n",
       "      <td>1.0</td>\n",
       "      <td>1.0</td>\n",
       "      <td>1.0</td>\n",
       "      <td>...</td>\n",
       "      <td>0.0</td>\n",
       "      <td>0.0</td>\n",
       "      <td>0.0</td>\n",
       "      <td>0.0</td>\n",
       "      <td>0.0</td>\n",
       "      <td>0.0</td>\n",
       "      <td>0.0</td>\n",
       "      <td>0.0</td>\n",
       "      <td>0.0</td>\n",
       "      <td>0.0</td>\n",
       "    </tr>\n",
       "    <tr>\n",
       "      <th>3</th>\n",
       "      <td>True</td>\n",
       "      <td>0.0</td>\n",
       "      <td>1.0</td>\n",
       "      <td>0.0</td>\n",
       "      <td>0.0</td>\n",
       "      <td>0.0</td>\n",
       "      <td>0.0</td>\n",
       "      <td>0.0</td>\n",
       "      <td>1.0</td>\n",
       "      <td>0.0</td>\n",
       "      <td>...</td>\n",
       "      <td>0.0</td>\n",
       "      <td>0.0</td>\n",
       "      <td>0.0</td>\n",
       "      <td>0.0</td>\n",
       "      <td>0.0</td>\n",
       "      <td>0.0</td>\n",
       "      <td>0.0</td>\n",
       "      <td>0.0</td>\n",
       "      <td>0.0</td>\n",
       "      <td>0.0</td>\n",
       "    </tr>\n",
       "    <tr>\n",
       "      <th>4</th>\n",
       "      <td>False</td>\n",
       "      <td>0.0</td>\n",
       "      <td>1.0</td>\n",
       "      <td>0.0</td>\n",
       "      <td>0.0</td>\n",
       "      <td>0.0</td>\n",
       "      <td>0.0</td>\n",
       "      <td>0.0</td>\n",
       "      <td>1.0</td>\n",
       "      <td>1.0</td>\n",
       "      <td>...</td>\n",
       "      <td>0.0</td>\n",
       "      <td>0.0</td>\n",
       "      <td>0.0</td>\n",
       "      <td>0.0</td>\n",
       "      <td>0.0</td>\n",
       "      <td>0.0</td>\n",
       "      <td>0.0</td>\n",
       "      <td>0.0</td>\n",
       "      <td>0.0</td>\n",
       "      <td>0.0</td>\n",
       "    </tr>\n",
       "  </tbody>\n",
       "</table>\n",
       "<p>5 rows × 24729 columns</p>\n",
       "</div>"
      ],
      "text/plain": [
       "   is_spam  14486   80  196   64  1896  8962  14328  2130  16502  ...    \\\n",
       "0     True    1.0  1.0  1.0  1.0   1.0   1.0    1.0   1.0    1.0  ...     \n",
       "1     True    0.0  1.0  0.0  1.0   0.0   1.0    0.0   1.0    1.0  ...     \n",
       "2     True    0.0  1.0  0.0  0.0   0.0   1.0    1.0   1.0    1.0  ...     \n",
       "3     True    0.0  1.0  0.0  0.0   0.0   0.0    0.0   1.0    0.0  ...     \n",
       "4    False    0.0  1.0  0.0  0.0   0.0   0.0    0.0   1.0    1.0  ...     \n",
       "\n",
       "   15561  15330  11289  547  15318  238  21957  1402  17219  19609  \n",
       "0    0.0    0.0    0.0  0.0    0.0  0.0    0.0   0.0    0.0    0.0  \n",
       "1    0.0    0.0    0.0  0.0    0.0  0.0    0.0   0.0    0.0    0.0  \n",
       "2    0.0    0.0    0.0  0.0    0.0  0.0    0.0   0.0    0.0    0.0  \n",
       "3    0.0    0.0    0.0  0.0    0.0  0.0    0.0   0.0    0.0    0.0  \n",
       "4    0.0    0.0    0.0  0.0    0.0  0.0    0.0   0.0    0.0    0.0  \n",
       "\n",
       "[5 rows x 24729 columns]"
      ]
     },
     "execution_count": 4,
     "metadata": {},
     "output_type": "execute_result"
    }
   ],
   "source": [
    "data.head()"
   ]
  },
  {
   "cell_type": "code",
   "execution_count": 5,
   "metadata": {
    "collapsed": true
   },
   "outputs": [],
   "source": [
    "def accuracy_score(true, predicted):\n",
    "    return (predicted == true).sum() / len(true)\n",
    "\n",
    "def f1_score(true, predicted):\n",
    "    tp = ((predicted == 1) * (true == 1)).sum()\n",
    "    rec = tp / (true == 1).sum()\n",
    "    prec = tp / (predicted == 1).sum()\n",
    "    return 2 * prec * rec / (prec + rec)"
   ]
  },
  {
   "cell_type": "code",
   "execution_count": 122,
   "metadata": {},
   "outputs": [],
   "source": [
    "def simple_selector(probs):\n",
    "    return np.argmax(probs, axis=1)\n",
    "\n",
    "def threshold_selector(probs, threshold):\n",
    "    return np.array([1 if p[1] - p[0] > threshold else 0 for p in probs])\n",
    "\n",
    "def threshold_selector_factory(threshold):\n",
    "    return lambda probs: threshold_selector(probs, threshold)\n",
    "\n",
    "def recall0_selector(probs, true_classes, recall):\n",
    "    diffs = np.array([p[1] - p[0] for p in probs])\n",
    "    class0_diffs = np.sort(diffs[np.nonzero(true_classes == 0)])\n",
    "    if (recall == 0):\n",
    "        return np.array([1 if d >= class0_diffs[0] else 0 for d in diffs])\n",
    "    else:\n",
    "        k = ceil(class0_diffs.shape[0] * recall)\n",
    "        print(\"Used threshold:\", class0_diffs[k - 1])\n",
    "        return np.array([1 if d > class0_diffs[k - 1] else 0 for d in diffs])\n",
    "\n",
    "def recall0_selector_factory(true_classes, recall):\n",
    "    return lambda probs: recall0_selector(probs, true_classes, recall)"
   ]
  },
  {
   "cell_type": "code",
   "execution_count": 118,
   "metadata": {},
   "outputs": [],
   "source": [
    "class NaiveBayes(BaseEstimator):\n",
    "    \n",
    "    def __init__(self, smooth_coef=1e-5, lambdas=None, selector=simple_selector):\n",
    "        self.smooth_coef = smooth_coef\n",
    "        self.lambdas = lambdas\n",
    "        self.selector = selector\n",
    "        \n",
    "    def fit(self, X, y):\n",
    "        total_counts = np.sum(X, axis=0)\n",
    "        total_words = np.sum(total_counts)\n",
    "        classes = np.unique(y)\n",
    "        \n",
    "        if self.lambdas is None:\n",
    "            self.lambdas = np.ones(classes.shape[0])\n",
    "            \n",
    "        self.classes = classes\n",
    "        self.word_probas = np.zeros((classes.shape[0], total_counts.shape[0]))\n",
    "        self.class_probas = np.zeros(classes.shape[0])\n",
    "        for cl in classes:\n",
    "            cl_count = y[y == cl].shape[0]\n",
    "\n",
    "            # smooth_coef затем, чтобы не вышло нулевых вероятностей\n",
    "            self.word_probas[cl] = (np.sum(X[y == cl], axis=0) + self.smooth_coef) / (cl_count + self.smooth_coef * y.shape[0])\n",
    "            self.class_probas[cl] = float(cl_count) / y.shape[0]\n",
    "    \n",
    "    def class_log_proba(self, x, cl):\n",
    "        return self.lambdas[cl] + np.log(self.class_probas[cl]) + np.sum(np.log(self.word_probas[cl][x > 0]))\n",
    "    \n",
    "    def predict_log_proba(self, X):\n",
    "        probas = np.zeros((X.shape[0], self.classes.shape[0]))\n",
    "        for i in np.arange(0, X.shape[0]):\n",
    "            for cl in self.classes:\n",
    "                probas[i][cl] = self.class_log_proba(X[i], cl)\n",
    "        return probas\n",
    "        \n",
    "    def predict(self, X):\n",
    "        probas = self.predict_log_proba(X)\n",
    "        return self.selector(self.predict_log_proba(X))\n",
    "    \n",
    "    def score(self, X, y):\n",
    "        return accuracy_score(y, self.predict(X))"
   ]
  },
  {
   "cell_type": "code",
   "execution_count": 119,
   "metadata": {
    "collapsed": true
   },
   "outputs": [],
   "source": [
    "def class_accuracy(y_test, y_pred, cl):\n",
    "    y_cl = y_test[y_test == cl]\n",
    "    y_pr = y_pred[y_test == cl]\n",
    "    return float(np.sum(y_cl == y_pr)) / y_cl.shape[0]"
   ]
  },
  {
   "cell_type": "code",
   "execution_count": 51,
   "metadata": {
    "collapsed": true
   },
   "outputs": [],
   "source": [
    "X = data.drop('is_spam', axis=1).values\n",
    "y = data['is_spam'].values.astype(int)\n",
    "X_train, X_test, y_train, y_test = train_test_split(X, y,\n",
    "                                                    test_size=0.2,\n",
    "                                                    random_state=43)"
   ]
  },
  {
   "cell_type": "code",
   "execution_count": 126,
   "metadata": {
    "scrolled": false
   },
   "outputs": [
    {
     "name": "stdout",
     "output_type": "stream",
     "text": [
      "Used threshold: 174.266376704\n",
      "Ham recall: 1.0\n",
      "Spam recall: 0.5612244897959183\n"
     ]
    }
   ],
   "source": [
    "nb = NaiveBayes(selector=recall0_selector_factory(y_test, 1.0))\n",
    "nb.fit(X_train, y_train)\n",
    "y_pred = nb.predict(X_test)\n",
    "print(\"Ham recall:\", class_accuracy(y_test, y_pred, 0))\n",
    "print(\"Spam recall:\", class_accuracy(y_test, y_pred, 1))"
   ]
  },
  {
   "cell_type": "code",
   "execution_count": 127,
   "metadata": {},
   "outputs": [
    {
     "name": "stdout",
     "output_type": "stream",
     "text": [
      "Used threshold: 174.0\n",
      "Ham recall: 0.9916666666666667\n",
      "Spam recall: 0.5612244897959183\n"
     ]
    }
   ],
   "source": [
    "nb1 = NaiveBayes(selector=threshold_selector_factory(174.0))\n",
    "nb1.fit(X_train, y_train)\n",
    "y_pred1 = nb1.predict(X_test)\n",
    "print(\"Used threshold: 174.0\")\n",
    "print(\"Ham recall:\", class_accuracy(y_test, y_pred1, 0))\n",
    "print(\"Spam recall:\", class_accuracy(y_test, y_pred1, 1))"
   ]
  },
  {
   "cell_type": "code",
   "execution_count": 129,
   "metadata": {},
   "outputs": [
    {
     "name": "stdout",
     "output_type": "stream",
     "text": [
      "Used threshold: 176.0\n",
      "Ham recall: 1.0\n",
      "Spam recall: 0.5510204081632653\n"
     ]
    }
   ],
   "source": [
    "nb2 = NaiveBayes(selector=threshold_selector_factory(176.0))\n",
    "nb2.fit(X_train, y_train)\n",
    "y_pred2 = nb2.predict(X_test)\n",
    "print(\"Used threshold: 176.0\")\n",
    "print(\"Ham recall:\", class_accuracy(y_test, y_pred2, 0))\n",
    "print(\"Spam recall:\", class_accuracy(y_test, y_pred2, 1))"
   ]
  },
  {
   "cell_type": "code",
   "execution_count": 88,
   "metadata": {
    "scrolled": false
   },
   "outputs": [
    {
     "data": {
      "text/plain": [
       "0.80275229357798161"
      ]
     },
     "execution_count": 88,
     "metadata": {},
     "output_type": "execute_result"
    }
   ],
   "source": [
    "accuracy_score(y_test, y_pred)"
   ]
  },
  {
   "cell_type": "code",
   "execution_count": 89,
   "metadata": {
    "scrolled": true
   },
   "outputs": [
    {
     "data": {
      "text/plain": [
       "0.71895424836601307"
      ]
     },
     "execution_count": 89,
     "metadata": {},
     "output_type": "execute_result"
    }
   ],
   "source": [
    "f1_score(y_test, y_pred)"
   ]
  },
  {
   "cell_type": "code",
   "execution_count": 94,
   "metadata": {
    "scrolled": true
   },
   "outputs": [
    {
     "data": {
      "text/plain": [
       "array([[120,   0],\n",
       "       [ 43,  55]])"
      ]
     },
     "execution_count": 94,
     "metadata": {},
     "output_type": "execute_result"
    }
   ],
   "source": [
    "confusion_matrix(y_test, y_pred)"
   ]
  },
  {
   "cell_type": "code",
   "execution_count": 17,
   "metadata": {
    "scrolled": true
   },
   "outputs": [
    {
     "name": "stdout",
     "output_type": "stream",
     "text": [
      "CPU times: user 3 µs, sys: 1e+03 ns, total: 4 µs\n",
      "Wall time: 8.58 µs\n"
     ]
    },
    {
     "data": {
      "image/png": "[encoded data removed]",
      "text/plain": [
       "<matplotlib.figure.Figure at 0x7ff897875390>"
      ]
     },
     "metadata": {},
     "output_type": "display_data"
    }
   ],
   "source": [
    "%time\n",
    "ls = np.arange(1, 300, 5)\n",
    "sc0 = []\n",
    "sc1 = []\n",
    "\n",
    "for l in ls:\n",
    "    nbc = NaiveBayes(lambdas=[l, 1])\n",
    "    nbc.fit(X_train, y_train)\n",
    "    y_pred = nbc.predict(X_test)\n",
    "    \n",
    "    sc0.append(class_accuracy(y_test, y_pred, 0))\n",
    "    sc1.append(class_accuracy(y_test, y_pred, 1))\n",
    "\n",
    "plt.plot(ls, sc0, 'r-', ls, sc1, 'b-')\n",
    "plt.xlabel('Weight of \"false spam\" error')\n",
    "plt.ylabel('Success ratio')\n",
    "plt.legend(['Ham', 'Spam'])\n",
    "plt.grid()\n",
    "plt.show()"
   ]
  },
  {
   "cell_type": "code",
   "execution_count": 92,
   "metadata": {},
   "outputs": [
    {
     "name": "stdout",
     "output_type": "stream",
     "text": [
      "Ham recall: 0.9916666666666667\n",
      "Spam recall: 0.9489795918367347\n"
     ]
    }
   ],
   "source": [
    "nbc = NaiveBayes(lambdas=[1, 1])\n",
    "nbc.fit(X_train, y_train)\n",
    "y_pred = nbc.predict(X_test)\n",
    "print('Ham recall: {}'.format(class_accuracy(y_test, y_pred, 0)))\n",
    "print('Spam recall: {}'.format(class_accuracy(y_test, y_pred, 1)))"
   ]
  },
  {
   "cell_type": "code",
   "execution_count": 115,
   "metadata": {},
   "outputs": [
    {
     "data": {
      "text/plain": [
       "0.97981651376146794"
      ]
     },
     "execution_count": 115,
     "metadata": {},
     "output_type": "execute_result"
    }
   ],
   "source": [
    "cv_acc_scores = cross_val_score(NaiveBayes(), X, y, scoring=make_scorer(accuracy_score), cv=10)\n",
    "cv_acc_scores.mean()"
   ]
  },
  {
   "cell_type": "code",
   "execution_count": 116,
   "metadata": {},
   "outputs": [
    {
     "data": {
      "text/plain": [
       "0.97694031303192008"
      ]
     },
     "execution_count": 116,
     "metadata": {},
     "output_type": "execute_result"
    }
   ],
   "source": [
    "cv_f1_scores = cross_val_score(NaiveBayes(), X, y, scoring=make_scorer(f1_score), cv=10)\n",
    "cv_f1_scores.mean()"
   ]
  }
 ],
 "metadata": {
  "git": {
   "suppress_outputs": true
  },
  "kernelspec": {
   "display_name": "Python 3",
   "language": "python",
   "name": "python3"
  },
  "language_info": {
   "codemirror_mode": {
    "name": "ipython",
    "version": 3
   },
   "file_extension": ".py",
   "mimetype": "text/x-python",
   "name": "python",
   "nbconvert_exporter": "python",
   "pygments_lexer": "ipython3",
   "version": "3.6.2"
  }
 },
 "nbformat": 4,
 "nbformat_minor": 1
}
