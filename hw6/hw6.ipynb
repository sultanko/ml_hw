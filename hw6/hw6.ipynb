{
 "cells": [
  {
   "cell_type": "code",
   "execution_count": 572,
   "metadata": {},
   "outputs": [],
   "source": [
    "%matplotlib inline\n",
    "import os\n",
    "import struct\n",
    "import numpy as np\n",
    "import matplotlib.pyplot as plt\n",
    "import itertools\n",
    "import random\n",
    "from sklearn.metrics import accuracy_score, confusion_matrix\n",
    "from sklearn.preprocessing import scale, normalize"
   ]
  },
  {
   "cell_type": "code",
   "execution_count": 573,
   "metadata": {},
   "outputs": [],
   "source": [
    "def load_mnist(dataset = \"training\", path = \".\"):\n",
    "    if dataset is \"training\":\n",
    "        fname_img = os.path.join(path, 'train-images.idx3-ubyte')\n",
    "        fname_lbl = os.path.join(path, 'train-labels.idx1-ubyte')\n",
    "    elif dataset is \"testing\":\n",
    "        fname_img = os.path.join(path, 't10k-images.idx3-ubyte')\n",
    "        fname_lbl = os.path.join(path, 't10k-labels.idx1-ubyte')    \n",
    "\n",
    "    # Load everything in some numpy arrays\n",
    "    with open(fname_lbl, 'rb') as flbl:           \n",
    "        magic, num = struct.unpack(\">II\", flbl.read(8))\n",
    "        lbl = np.fromfile(flbl, dtype=np.int8)\n",
    "\n",
    "    with open(fname_img, 'rb') as fimg:\n",
    "        magic, num = struct.unpack(\">II\", fimg.read(8))        \n",
    "        rows, cols = struct.unpack(\">II\", fimg.read(8))        \n",
    "        img = np.fromfile(fimg, dtype=np.uint8).reshape(len(lbl), rows, cols)\n",
    "\n",
    "    get_img = lambda idx: (lbl[idx], img[idx])\n",
    "    return (lbl, img)\n",
    "\n",
    "    # Create an iterator which returns each image in turn\n",
    "    #for i in range(len(lbl)):\n",
    "    #    yield get_img(i)"
   ]
  },
  {
   "cell_type": "code",
   "execution_count": 574,
   "metadata": {},
   "outputs": [],
   "source": [
    "def transform_image(img):\n",
    "    return np.reshape(img, (1, 784))\n",
    "\n",
    "def transform_label(j, n=10):\n",
    "    e = np.zeros((n, 1))\n",
    "    e[j] = 1.0\n",
    "    return e"
   ]
  },
  {
   "cell_type": "code",
   "execution_count": 575,
   "metadata": {},
   "outputs": [
    {
     "name": "stdout",
     "output_type": "stream",
     "text": [
      "CPU times: user 208 ms, sys: 16 ms, total: 224 ms\n",
      "Wall time: 222 ms\n"
     ]
    }
   ],
   "source": [
    "%%time\n",
    "\n",
    "train_labels, train_images = load_mnist(dataset = \"training\", path = \"data/\")\n",
    "test_labels, test_images = load_mnist(dataset = \"testing\", path = \"data/\")\n",
    "\n",
    "train_images = np.array(list(map(transform_image, train_images)))\n",
    "test_images  = np.array(list(map(transform_image, test_images)))\n",
    "train_labels = np.array(list(map(transform_label, train_labels)))\n",
    "test_labels  = np.array(list(map(transform_label, test_labels)))\n",
    "#print (train_images[100])"
   ]
  },
  {
   "cell_type": "code",
   "execution_count": 576,
   "metadata": {},
   "outputs": [],
   "source": [
    "def binarize_images(imgs):\n",
    "    return (imgs > 120).astype(int)\n",
    "\n",
    "def standartize_images(imgs):    \n",
    "    return imgs / 255\n",
    "\n",
    "#print (train_images.shape)\n",
    "train_images = standartize_images(train_images)\n",
    "test_images  = standartize_images(test_images)\n",
    "\n"
   ]
  },
  {
   "cell_type": "code",
   "execution_count": 577,
   "metadata": {},
   "outputs": [],
   "source": [
    "#print (train_images[1000])"
   ]
  },
  {
   "cell_type": "code",
   "execution_count": 578,
   "metadata": {},
   "outputs": [
    {
     "data": {
      "image/png": "[encoded data removed]",
      "text/plain": [
       "<matplotlib.figure.Figure at 0x7f3350439080>"
      ]
     },
     "metadata": {},
     "output_type": "display_data"
    }
   ],
   "source": [
    "np.random.seed(42)\n",
    "\n",
    "train_indices = np.random.randint(0, len(train_images), 10)\n",
    "\n",
    "#for ix, image in enumerate(train_images[train_indices]):\n",
    "image = train_images[np.random.randint(0, len(train_images))]\n",
    "plt.subplot(1, 1, 1)\n",
    "plt.axis(\"off\")\n",
    "plt.imshow(np.reshape(image, (28, 28)), cmap=plt.cm.gray_r, interpolation=\"nearest\")\n",
    "plt.show()"
   ]
  },
  {
   "cell_type": "code",
   "execution_count": 579,
   "metadata": {},
   "outputs": [],
   "source": [
    "def sigmoid(x):\n",
    "    return 1./(1 + np.exp(-x))\n",
    "\n",
    "def sigmoid_der(x):\n",
    "    s = sigmoid(x)    \n",
    "    return s * (1 - s)"
   ]
  },
  {
   "cell_type": "code",
   "execution_count": 580,
   "metadata": {},
   "outputs": [],
   "source": [
    "class NetLayer(object):\n",
    "    def __init__(self, size, activation, activation_der):\n",
    "        self.activation = activation\n",
    "        self.activation_der = activation_der        \n",
    "        self.w = np.random.normal(loc = 0.0, scale = 0.02, size = size)\n",
    "        self.b = np.random.normal(loc = 0.0, scale = 0.02, size = (1, size[1]))        \n",
    "    \n",
    "    def forward(self, X):\n",
    "        self.x = X        \n",
    "        self.y = np.dot(self.x, self.w) + self.b\n",
    "        self.o = self.activation(self.y)\n",
    "        return self.o\n",
    "    \n",
    "    def error(self, Y):\n",
    "        return 0.5 * np.sum(((self.o - Y) ** 2))"
   ]
  },
  {
   "cell_type": "code",
   "execution_count": 581,
   "metadata": {},
   "outputs": [],
   "source": [
    "learn_rate = 0.1\n",
    "\n",
    "def backprop(x, y):\n",
    "    t_x = x\n",
    "    for i in range(net_len):\n",
    "        layer = net[i]\n",
    "        t_x = layer.forward(t_x)\n",
    "            \n",
    "    #net[-1].sigma = (net[-1].o - y.T)\n",
    "    net[-1].sigma = - y.T / net[-1].o\n",
    "    net[-1].delta = net[-1].sigma * layer.activation_der(net[-1].y)\n",
    "    \n",
    "    for i in range(2, net_len + 1):\n",
    "        layer = net[-i]\n",
    "        layer.sigma = layer.activation_der(layer.y)                \n",
    "        layer.delta = np.dot(net[-i+1].delta, net[-i+1].w.T) * layer.sigma                    \n",
    "\n",
    "    for i in range(net_len):    \n",
    "        layer.w -= learn_rate * np.dot(layer.x.T, layer.delta)\n",
    "        layer.b -= learn_rate * layer.delta\n",
    "\n",
    "def train(train_img, train_labels):    \n",
    "    for (x, y) in zip(train_img, train_labels):\n",
    "        backprop(x, y)\n",
    "    \n",
    "def predict(x):\n",
    "    for i in range(net_len):\n",
    "        x = net[i].forward(x)\n",
    "    return np.argmax(x)\n",
    "\n",
    "def accuracy(X, y_true):\n",
    "    y_pred = [predict(x) for x in X]\n",
    "    y_true = [np.argmax(x) for x in y_true]\n",
    "    return np.sum([y1 == y2 for (y1,y2) in zip(y_pred, y_true)]) / len(y_true)\n",
    "        \n",
    "        "
   ]
  },
  {
   "cell_type": "code",
   "execution_count": 582,
   "metadata": {},
   "outputs": [
    {
     "name": "stdout",
     "output_type": "stream",
     "text": [
      "epoch=0 acc=0.867017\n",
      "epoch=1 acc=0.881050\n",
      "epoch=2 acc=0.888083\n",
      "epoch=3 acc=0.892300\n",
      "epoch=4 acc=0.895150\n",
      "epoch=5 acc=0.897200\n",
      "epoch=6 acc=0.899250\n",
      "epoch=7 acc=0.901300\n",
      "CPU times: user 29min 30s, sys: 45min 44s, total: 1h 15min 15s\n",
      "Wall time: 21min 34s\n"
     ]
    }
   ],
   "source": [
    "%%time\n",
    "#np.random.seed(42)\n",
    "\n",
    "net = [\n",
    "    NetLayer((784, 300), sigmoid, sigmoid_der),\n",
    "    NetLayer((300, 10), sigmoid, sigmoid_der)\n",
    "]\n",
    "net_len = len(net)\n",
    "x1 = train_images#[:5000]\n",
    "y1 = train_labels#[:5000]\n",
    "\n",
    "for i in range(8):\n",
    "    train(x1, y1)\n",
    "    print (\"epoch=%d acc=%f\" % (i,accuracy(x1, y1)))"
   ]
  },
  {
   "cell_type": "code",
   "execution_count": 583,
   "metadata": {},
   "outputs": [
    {
     "name": "stdout",
     "output_type": "stream",
     "text": [
      "CPU times: user 1.71 s, sys: 1.19 s, total: 2.9 s\n",
      "Wall time: 757 ms\n"
     ]
    }
   ],
   "source": [
    "%%time\n",
    "\n",
    "y_true = np.argmax(test_labels, axis=1).T[0]\n",
    "y_pred = np.array([predict(x) for x in test_images])"
   ]
  },
  {
   "cell_type": "code",
   "execution_count": 584,
   "metadata": {},
   "outputs": [
    {
     "name": "stdout",
     "output_type": "stream",
     "text": [
      "Error rate: 9.3%\n"
     ]
    }
   ],
   "source": [
    "score = accuracy_score(y_true, y_pred)\n",
    "print(\"Error rate: %.1f%%\" % (100 * (1 - score)))"
   ]
  },
  {
   "cell_type": "code",
   "execution_count": 585,
   "metadata": {},
   "outputs": [
    {
     "data": {
      "image/png": "[encoded data removed]",
      "text/plain": [
       "<matplotlib.figure.Figure at 0x7f33508a8be0>"
      ]
     },
     "metadata": {},
     "output_type": "display_data"
    }
   ],
   "source": [
    "# Compute confusion matrix\n",
    "cm = confusion_matrix(y_true, y_pred)\n",
    "\n",
    "# Normalize confusion matrix\n",
    "cm = cm.astype('float') / cm.sum(axis=1)[:, np.newaxis]\n",
    "   \n",
    "\n",
    "# Plot confusion matrix\n",
    "plt.figure(figsize=(16, 8))\n",
    "plt.imshow(cm, interpolation='nearest', cmap=\"Blues\")\n",
    "plt.colorbar()\n",
    "classes = range(10)\n",
    "tick_marks = np.arange(len(classes))\n",
    "plt.xticks(tick_marks, classes)\n",
    "plt.yticks(tick_marks, classes)\n",
    "plt.grid(\"off\")\n",
    "\n",
    "# Plot digits of confusion matrix\n",
    "thresh = cm.max() / 2.\n",
    "for i, j in itertools.product(range(cm.shape[0]), range(cm.shape[1])):\n",
    "    plt.text(j, i, \"%.2f\" % cm[i, j],\n",
    "             horizontalalignment=\"center\",\n",
    "             color=\"white\" if cm[i, j] > thresh else \"black\")\n",
    "\n",
    "\n",
    "plt.show()"
   ]
  },
  {
   "cell_type": "code",
   "execution_count": 586,
   "metadata": {},
   "outputs": [],
   "source": [
    "wrong_ones = []\n",
    "for d in range(10):\n",
    "    wrong_ones.append([])\n",
    "\n",
    "for i, (true, pred) in enumerate(zip(y_true, y_pred)):\n",
    "    if true != pred:\n",
    "        img = test_images[i]\n",
    "        wrong_ones[true].append((img, pred, i))"
   ]
  },
  {
   "cell_type": "code",
   "execution_count": 587,
   "metadata": {},
   "outputs": [
    {
     "data": {
      "image/png": "[encoded data removed]",
      "text/plain": [
       "<matplotlib.figure.Figure at 0x7f33508c7048>"
      ]
     },
     "metadata": {},
     "output_type": "display_data"
    }
   ],
   "source": [
    "topN = 5\n",
    "\n",
    "plt.figure(figsize=(4, 4))\n",
    "img, pred, i = wrong_ones[topN][0]\n",
    "plt.subplot(1, 1, 1)\n",
    "plt.axis(\"off\")\n",
    "plt.imshow(np.reshape(img, (28, 28)), cmap=plt.cm.gray_r, interpolation=\"nearest\")\n",
    "plt.title(\"I=%d Predicted: %d\" % (i, pred))\n",
    "plt.show()"
   ]
  },
  {
   "cell_type": "code",
   "execution_count": 588,
   "metadata": {},
   "outputs": [
    {
     "name": "stdout",
     "output_type": "stream",
     "text": [
      "Error rate: 9.3%\n"
     ]
    }
   ],
   "source": [
    "score = accuracy_score(y_true, y_pred)\n",
    "print(\"Error rate: %.1f%%\" % (100 * (1 - score)))"
   ]
  },
  {
   "cell_type": "code",
   "execution_count": 589,
   "metadata": {},
   "outputs": [],
   "source": [
    "from PIL import Image\n",
    "FILENAME = \"9.png\"\n",
    "pil_image = Image.open(\"data/manual/\" + FILENAME).resize((28, 28))\n",
    "img = (255 - np.asarray(pil_image.convert(\"L\")))"
   ]
  },
  {
   "cell_type": "code",
   "execution_count": 590,
   "metadata": {},
   "outputs": [],
   "source": [
    "img = transform_image(img)\n",
    "img = standartize_images(np.array([img]))[0]"
   ]
  },
  {
   "cell_type": "code",
   "execution_count": 591,
   "metadata": {},
   "outputs": [
    {
     "data": {
      "text/plain": [
       "<matplotlib.image.AxesImage at 0x7f33504cab38>"
      ]
     },
     "execution_count": 591,
     "metadata": {},
     "output_type": "execute_result"
    },
    {
     "data": {
      "image/png": "[encoded data removed]",
      "text/plain": [
       "<matplotlib.figure.Figure at 0x7f33504c63c8>"
      ]
     },
     "metadata": {},
     "output_type": "display_data"
    }
   ],
   "source": [
    "plt.imshow(np.reshape(img, (28, 28)), cmap=plt.cm.gray_r, interpolation=\"nearest\")"
   ]
  },
  {
   "cell_type": "code",
   "execution_count": 592,
   "metadata": {},
   "outputs": [
    {
     "name": "stdout",
     "output_type": "stream",
     "text": [
      "Predicted value: 1\n"
     ]
    }
   ],
   "source": [
    "y_additional_pred = predict(img)\n",
    "print(\"Predicted value: %d\" % y_additional_pred)"
   ]
  },
  {
   "cell_type": "code",
   "execution_count": null,
   "metadata": {},
   "outputs": [],
   "source": []
  }
 ],
 "metadata": {
  "kernelspec": {
   "display_name": "Python 3",
   "language": "python",
   "name": "python3"
  },
  "language_info": {
   "codemirror_mode": {
    "name": "ipython",
    "version": 3
   },
   "file_extension": ".py",
   "mimetype": "text/x-python",
   "name": "python",
   "nbconvert_exporter": "python",
   "pygments_lexer": "ipython3",
   "version": "3.5.2"
  }
 },
 "nbformat": 4,
 "nbformat_minor": 1
}
