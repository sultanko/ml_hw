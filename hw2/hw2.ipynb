{
 "cells": [
  {
   "cell_type": "code",
   "execution_count": 2,
   "metadata": {},
   "outputs": [
    {
     "name": "stderr",
     "output_type": "stream",
     "text": [
      "/home/sultan/.local/lib/python3.5/site-packages/sklearn/cross_validation.py:41: DeprecationWarning: This module was deprecated in version 0.18 in favor of the model_selection module into which all the refactored classes and functions are moved. Also note that the interface of the new CV iterators are different from that of this module. This module will be removed in 0.20.\n",
      "  \"This module will be removed in 0.20.\", DeprecationWarning)\n"
     ]
    }
   ],
   "source": [
    "%matplotlib inline\n",
    "import numpy as np\n",
    "import pandas as pd\n",
    "import matplotlib.pyplot as plt\n",
    "\n",
    "from collections import Counter\n",
    "from sklearn.cross_validation import KFold\n",
    "from sklearn.model_selection import train_test_split\n",
    "from sklearn.preprocessing import MinMaxScaler, StandardScaler\n",
    "\n",
    "from scipy import randn"
   ]
  },
  {
   "cell_type": "code",
   "execution_count": 3,
   "metadata": {},
   "outputs": [],
   "source": [
    "data = pd.read_csv('data/prices.txt')"
   ]
  },
  {
   "cell_type": "code",
   "execution_count": 4,
   "metadata": {},
   "outputs": [
    {
     "data": {
      "text/html": [
       "<div>\n",
       "<style>\n",
       "    .dataframe thead tr:only-child th {\n",
       "        text-align: right;\n",
       "    }\n",
       "\n",
       "    .dataframe thead th {\n",
       "        text-align: left;\n",
       "    }\n",
       "\n",
       "    .dataframe tbody tr th {\n",
       "        vertical-align: top;\n",
       "    }\n",
       "</style>\n",
       "<table border=\"1\" class=\"dataframe\">\n",
       "  <thead>\n",
       "    <tr style=\"text-align: right;\">\n",
       "      <th></th>\n",
       "      <th>area</th>\n",
       "      <th>rooms</th>\n",
       "      <th>price</th>\n",
       "    </tr>\n",
       "  </thead>\n",
       "  <tbody>\n",
       "    <tr>\n",
       "      <th>0</th>\n",
       "      <td>2104</td>\n",
       "      <td>3</td>\n",
       "      <td>399900</td>\n",
       "    </tr>\n",
       "    <tr>\n",
       "      <th>1</th>\n",
       "      <td>1600</td>\n",
       "      <td>3</td>\n",
       "      <td>329900</td>\n",
       "    </tr>\n",
       "    <tr>\n",
       "      <th>2</th>\n",
       "      <td>2400</td>\n",
       "      <td>3</td>\n",
       "      <td>369000</td>\n",
       "    </tr>\n",
       "    <tr>\n",
       "      <th>3</th>\n",
       "      <td>1416</td>\n",
       "      <td>2</td>\n",
       "      <td>232000</td>\n",
       "    </tr>\n",
       "    <tr>\n",
       "      <th>4</th>\n",
       "      <td>3000</td>\n",
       "      <td>4</td>\n",
       "      <td>539900</td>\n",
       "    </tr>\n",
       "  </tbody>\n",
       "</table>\n",
       "</div>"
      ],
      "text/plain": [
       "   area  rooms   price\n",
       "0  2104      3  399900\n",
       "1  1600      3  329900\n",
       "2  2400      3  369000\n",
       "3  1416      2  232000\n",
       "4  3000      4  539900"
      ]
     },
     "execution_count": 4,
     "metadata": {},
     "output_type": "execute_result"
    }
   ],
   "source": [
    "data.head()"
   ]
  },
  {
   "cell_type": "code",
   "execution_count": 5,
   "metadata": {},
   "outputs": [
    {
     "data": {
      "image/png": "[encoded data removed]",
      "text/plain": [
       "<matplotlib.figure.Figure at 0x7fc079916940>"
      ]
     },
     "metadata": {},
     "output_type": "display_data"
    }
   ],
   "source": [
    "plot1 = data.plot(kind='scatter', x='area', y='price', c='rooms', grid=True)\n",
    "#plot1.set_facecolor(\"gray\")"
   ]
  },
  {
   "cell_type": "code",
   "execution_count": 6,
   "metadata": {},
   "outputs": [
    {
     "data": {
      "text/plain": [
       "<matplotlib.axes._subplots.AxesSubplot at 0x7fc077639630>"
      ]
     },
     "execution_count": 6,
     "metadata": {},
     "output_type": "execute_result"
    },
    {
     "data": {
      "image/png": "[encoded data removed]",
      "text/plain": [
       "<matplotlib.figure.Figure at 0x7fc07767e0b8>"
      ]
     },
     "metadata": {},
     "output_type": "display_data"
    }
   ],
   "source": [
    "data.plot(kind = 'scatter', x = 'rooms', y='price')"
   ]
  },
  {
   "cell_type": "code",
   "execution_count": 7,
   "metadata": {},
   "outputs": [
    {
     "data": {
      "text/plain": [
       "<matplotlib.axes._subplots.AxesSubplot at 0x7fc07754a9b0>"
      ]
     },
     "execution_count": 7,
     "metadata": {},
     "output_type": "execute_result"
    },
    {
     "data": {
      "image/png": "[encoded data removed]",
      "text/plain": [
       "<matplotlib.figure.Figure at 0x7fc077522898>"
      ]
     },
     "metadata": {},
     "output_type": "display_data"
    }
   ],
   "source": [
    "data.plot(kind = 'scatter', x = 'area', y='price')"
   ]
  },
  {
   "cell_type": "code",
   "execution_count": 50,
   "metadata": {},
   "outputs": [],
   "source": [
    "X = data[['area', 'rooms']]\n",
    "y = np.array(list(map(float, data['price'])))\n",
    "X = StandardScaler().fit_transform(X)\n",
    "y = StandardScaler().fit_transform(y.reshape(len(y), 1)).reshape(len(y))\n",
    "X = np.append(np.ones(len(X)).reshape((len(X), 1)), X, axis=1)"
   ]
  },
  {
   "cell_type": "code",
   "execution_count": 51,
   "metadata": {},
   "outputs": [
    {
     "name": "stderr",
     "output_type": "stream",
     "text": [
      "/home/sultan/.local/lib/python3.5/site-packages/matplotlib/axes/_axes.py:545: UserWarning: No labelled objects found. Use label='...' kwarg on individual plots.\n",
      "  warnings.warn(\"No labelled objects found. \"\n"
     ]
    },
    {
     "data": {
      "image/png": "[encoded data removed]",
      "text/plain": [
       "<matplotlib.figure.Figure at 0x7fc07744e358>"
      ]
     },
     "metadata": {},
     "output_type": "display_data"
    }
   ],
   "source": [
    "plt.xlabel(\"Area\")\n",
    "plt.ylabel(\"Price\")\n",
    "plt.plot(X[:, 0], y, 'ro')\n",
    "plt.legend(loc = 0)"
   ]
  },
  {
   "cell_type": "code",
   "execution_count": 52,
   "metadata": {},
   "outputs": [],
   "source": [
    "def get_mse(regressor, xs, ys):    \n",
    "    predicted = np.apply_along_axis(regressor.predict, 1, xs)\n",
    "    return ((predicted - ys) ** 2).mean()\n",
    "    \n",
    "def kf_cross_validation(regressor, xs, ys, n_fold=10, times=1, **params):\n",
    "    res = 0\n",
    "    for _ in range(times):\n",
    "        kf = KFold(len(xs), n_fold, True, 0)\n",
    "        kf_sum = 0\n",
    "        fold_num = 0\n",
    "        for train_i, test_i in kf:\n",
    "            regressor.fit(xs[train_i], ys[train_i])\n",
    "            meas = get_mse(regressor, xs[test_i], ys[test_i])\n",
    "            fold_num += 1\n",
    "            kf_sum += meas\n",
    "            print(\"Time {}, fold {} done, error = {}\".format(_, fold_num, meas))\n",
    "        res += kf_sum/n_fold\n",
    "    return res/times"
   ]
  },
  {
   "cell_type": "code",
   "execution_count": 53,
   "metadata": {},
   "outputs": [],
   "source": [
    "class LinearRegression:\n",
    "    def __init__(self, w = None, linearCoef = 0.5, numIter = 100):\n",
    "        self.baseW = w\n",
    "        self.linearCoef = linearCoef   \n",
    "        self.numIter = numIter\n",
    "        \n",
    "    def _grad_descend(self):\n",
    "        Xt = X.transpose()\n",
    "        m = X.shape[0]\n",
    "        mse = None\n",
    "        w = self.baseW\n",
    "        for i in range(self.numIter):\n",
    "            h = np.dot(X, w)\n",
    "            diff = h - y\n",
    "            grad = np.dot(Xt, diff) / m\n",
    "            mse = np.sum(diff ** 2) / (2 * m)\n",
    "            w -= (self.linearCoef[i] * grad)\n",
    "            \n",
    "        self.w = w      \n",
    "    \n",
    "    def fit(self, X, y):\n",
    "        self.X = X\n",
    "        self.y = y      \n",
    "        self._grad_descend()\n",
    "\n",
    "    def predict(self, X):               \n",
    "        return np.dot(X, self.w)\n",
    "    \n",
    "    def weights(self):\n",
    "        return self.w\n"
   ]
  },
  {
   "cell_type": "code",
   "execution_count": 54,
   "metadata": {},
   "outputs": [],
   "source": [
    "X_learn, X_holdout, y_learn, y_holdout = train_test_split(X, y, test_size=0.1, random_state=1)\n",
    "#X_train, X_test, y_train, y_test       = train_test_split(X_learn, y_learn, test_size=0.33, random_state=1)"
   ]
  },
  {
   "cell_type": "code",
   "execution_count": 55,
   "metadata": {},
   "outputs": [
    {
     "name": "stdout",
     "output_type": "stream",
     "text": [
      "Learn size: 42\n",
      "Hold-out size: 5\n"
     ]
    }
   ],
   "source": [
    "print(\"Learn size: %d\" % X_learn.shape[0])\n",
    "print(\"Hold-out size: %d\" % X_holdout.shape[0])"
   ]
  },
  {
   "cell_type": "code",
   "execution_count": 56,
   "metadata": {},
   "outputs": [
    {
     "name": "stdout",
     "output_type": "stream",
     "text": [
      "0.267054981971\n",
      "[ -8.42710394e-17   8.84765988e-01  -5.31788197e-02]\n"
     ]
    }
   ],
   "source": [
    "m, n = X.shape\n",
    "w = np.ones(n)\n",
    "numIter = 1000\n",
    "linearCoef = [0.1] * numIter\n",
    "linearReg = LinearRegression(w = w, linearCoef = linearCoef, numIter = numIter)\n",
    "#print (kf_cross_validation(linearReg, X_learn, y_learn))\n",
    "linearReg.fit(X, y)\n",
    "print (get_mse(linearReg, X, y))\n",
    "print (linearReg.weights())"
   ]
  },
  {
   "cell_type": "code",
   "execution_count": 65,
   "metadata": {},
   "outputs": [],
   "source": [
    "np.random.seed(53)\n",
    "\n",
    "def mutation(pop):\n",
    "    return pop + randn(*pop.shape)\n",
    "\n",
    "class GeneticReg:\n",
    "    def __init__(self, numIter = 100, popSize = 10, mutationCount = 5):        \n",
    "        self.numIter = numIter\n",
    "        self.popSize = popSize\n",
    "        self.mutationCout = mutationCount\n",
    "    \n",
    "    def gen_optimize(self):\n",
    "        m, n = self.X.shape\n",
    "        pop = np.zeros((self.popSize, n))\n",
    "        pops = []\n",
    "        mses = []\n",
    "        #print (pop)\n",
    "       \n",
    "        for i in range(numIter):\n",
    "            pops = pop.copy()\n",
    "            for j in range(self.mutationCount):\n",
    "                pops = np.append(pops, mutation(pop), axis=0)\n",
    "            \n",
    "            #print (pops)\n",
    "            mses = []\n",
    "            for j, single_pop in enumerate(pops):\n",
    "                h = np.dot(X, single_pop)\n",
    "                diff = h - y\n",
    "                mse = np.sum(diff ** 2) / (2 * m)\n",
    "                mses.append((mse, j))\n",
    "            mses = sorted(mses)\n",
    "            pop = pops[mses[0][1]].reshape(1, len(pops[mses[0][1]]))\n",
    "            for _, j in mses[1:self.popSize]:\n",
    "                pop = np.append(pop, pops[j].reshape(1, len(pops[j])), axis=0)            \n",
    "            #print (pop)\n",
    "            #print (\"BIG BOY\")\n",
    "        \n",
    "        self.w = pops[mses[0][1]]\n",
    "    \n",
    "    def fit(self, X, y):\n",
    "        self.X = X\n",
    "        self.y = y      \n",
    "        self.gen_optimize()\n",
    "\n",
    "    def predict(self, X):               \n",
    "        return np.dot(X, self.w)\n",
    "    \n",
    "    def weights(self):\n",
    "        return self.w"
   ]
  },
  {
   "cell_type": "code",
   "execution_count": 68,
   "metadata": {},
   "outputs": [
    {
     "name": "stdout",
     "output_type": "stream",
     "text": [
      "0.268864595987\n",
      "[ 0.02444245  0.86719729 -0.01171332]\n"
     ]
    }
   ],
   "source": [
    "genReg = GeneticReg()\n",
    "genReg.fit(X, y)\n",
    "print (get_mse(genReg, X, y))\n",
    "print (genReg.weights())"
   ]
  },
  {
   "cell_type": "code",
   "execution_count": null,
   "metadata": {},
   "outputs": [],
   "source": []
  }
 ],
 "metadata": {
  "kernelspec": {
   "display_name": "Python 3",
   "language": "python",
   "name": "python3"
  },
  "language_info": {
   "codemirror_mode": {
    "name": "ipython",
    "version": 3
   },
   "file_extension": ".py",
   "mimetype": "text/x-python",
   "name": "python",
   "nbconvert_exporter": "python",
   "pygments_lexer": "ipython3",
   "version": "3.5.2"
  }
 },
 "nbformat": 4,
 "nbformat_minor": 2
}
