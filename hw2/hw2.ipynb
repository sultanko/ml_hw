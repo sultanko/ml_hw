{
 "cells": [
  {
   "cell_type": "code",
   "execution_count": 253,
   "metadata": {},
   "outputs": [],
   "source": [
    "%matplotlib inline\n",
    "import numpy as np\n",
    "import pandas as pd\n",
    "import matplotlib.pyplot as plt\n",
    "\n",
    "from collections import Counter\n",
    "from sklearn.cross_validation import KFold\n",
    "from sklearn.model_selection import train_test_split\n",
    "from sklearn.preprocessing import MinMaxScaler, StandardScaler\n",
    "\n",
    "from scipy import randn"
   ]
  },
  {
   "cell_type": "code",
   "execution_count": 254,
   "metadata": {},
   "outputs": [],
   "source": [
    "data = pd.read_csv('data/prices.txt')"
   ]
  },
  {
   "cell_type": "code",
   "execution_count": 255,
   "metadata": {},
   "outputs": [
    {
     "data": {
      "text/html": [
       "<div>\n",
       "<style>\n",
       "    .dataframe thead tr:only-child th {\n",
       "        text-align: right;\n",
       "    }\n",
       "\n",
       "    .dataframe thead th {\n",
       "        text-align: left;\n",
       "    }\n",
       "\n",
       "    .dataframe tbody tr th {\n",
       "        vertical-align: top;\n",
       "    }\n",
       "</style>\n",
       "<table border=\"1\" class=\"dataframe\">\n",
       "  <thead>\n",
       "    <tr style=\"text-align: right;\">\n",
       "      <th></th>\n",
       "      <th>area</th>\n",
       "      <th>rooms</th>\n",
       "      <th>price</th>\n",
       "    </tr>\n",
       "  </thead>\n",
       "  <tbody>\n",
       "    <tr>\n",
       "      <th>0</th>\n",
       "      <td>2104</td>\n",
       "      <td>3</td>\n",
       "      <td>399900</td>\n",
       "    </tr>\n",
       "    <tr>\n",
       "      <th>1</th>\n",
       "      <td>1600</td>\n",
       "      <td>3</td>\n",
       "      <td>329900</td>\n",
       "    </tr>\n",
       "    <tr>\n",
       "      <th>2</th>\n",
       "      <td>2400</td>\n",
       "      <td>3</td>\n",
       "      <td>369000</td>\n",
       "    </tr>\n",
       "    <tr>\n",
       "      <th>3</th>\n",
       "      <td>1416</td>\n",
       "      <td>2</td>\n",
       "      <td>232000</td>\n",
       "    </tr>\n",
       "    <tr>\n",
       "      <th>4</th>\n",
       "      <td>3000</td>\n",
       "      <td>4</td>\n",
       "      <td>539900</td>\n",
       "    </tr>\n",
       "  </tbody>\n",
       "</table>\n",
       "</div>"
      ],
      "text/plain": [
       "   area  rooms   price\n",
       "0  2104      3  399900\n",
       "1  1600      3  329900\n",
       "2  2400      3  369000\n",
       "3  1416      2  232000\n",
       "4  3000      4  539900"
      ]
     },
     "execution_count": 255,
     "metadata": {},
     "output_type": "execute_result"
    }
   ],
   "source": [
    "data.head()"
   ]
  },
  {
   "cell_type": "code",
   "execution_count": 256,
   "metadata": {},
   "outputs": [
    {
     "data": {
      "image/png": "[encoded data removed]",
      "text/plain": [
       "<matplotlib.figure.Figure at 0x7fd1f34d5588>"
      ]
     },
     "metadata": {},
     "output_type": "display_data"
    }
   ],
   "source": [
    "plot1 = data.plot(kind='scatter', x='area', y='price', c='rooms', grid=True)\n",
    "#plot1.set_facecolor(\"gray\")"
   ]
  },
  {
   "cell_type": "code",
   "execution_count": 257,
   "metadata": {},
   "outputs": [
    {
     "data": {
      "text/plain": [
       "<matplotlib.axes._subplots.AxesSubplot at 0x7fd1f34ff8d0>"
      ]
     },
     "execution_count": 257,
     "metadata": {},
     "output_type": "execute_result"
    },
    {
     "data": {
      "image/png": "[encoded data removed]",
      "text/plain": [
       "<matplotlib.figure.Figure at 0x7fd1f3423c18>"
      ]
     },
     "metadata": {},
     "output_type": "display_data"
    }
   ],
   "source": [
    "data.plot(kind = 'scatter', x = 'rooms', y='price')"
   ]
  },
  {
   "cell_type": "code",
   "execution_count": 258,
   "metadata": {},
   "outputs": [
    {
     "data": {
      "text/plain": [
       "<matplotlib.axes._subplots.AxesSubplot at 0x7fd1f3583c88>"
      ]
     },
     "execution_count": 258,
     "metadata": {},
     "output_type": "execute_result"
    },
    {
     "data": {
      "image/png": "[encoded data removed]",
      "text/plain": [
       "<matplotlib.figure.Figure at 0x7fd1f354c940>"
      ]
     },
     "metadata": {},
     "output_type": "display_data"
    }
   ],
   "source": [
    "data.plot(kind = 'scatter', x = 'area', y='price')"
   ]
  },
  {
   "cell_type": "code",
   "execution_count": 259,
   "metadata": {},
   "outputs": [],
   "source": [
    "X = data[['area', 'rooms']]\n",
    "y = np.array(list(map(float, data['price'])))\n",
    "#X = StandardScaler().fit_transform(X)\n",
    "#y = StandardScaler().fit_transform(y.reshape(len(y), 1)).reshape(len(y))\n",
    "#X = np.append(np.ones(len(X)).reshape((len(X), 1)), X, axis=1)"
   ]
  },
  {
   "cell_type": "code",
   "execution_count": 260,
   "metadata": {},
   "outputs": [],
   "source": [
    "def standard_transform(x):\n",
    "    return StandardScaler().fit_transform(x)\n",
    "\n",
    "def append_one(x):\n",
    "    return np.append(np.ones(len(x)).reshape((len(x), 1)), x, axis=1)"
   ]
  },
  {
   "cell_type": "code",
   "execution_count": 261,
   "metadata": {},
   "outputs": [
    {
     "name": "stdout",
     "output_type": "stream",
     "text": [
      "[ 399900.  329900.  369000.  232000.  539900.  299900.  314900.  198999.\n",
      "  212000.  242500.  239999.  347000.  329999.  699900.  259900.  449900.\n",
      "  299900.  199900.  499998.  599000.  252900.  255000.  242900.  259900.\n",
      "  573900.  249900.  464500.  469000.  475000.  299900.  349900.  169900.\n",
      "  314900.  579900.  285900.  249900.  229900.  345000.  549000.  287000.\n",
      "  368500.  329900.  314000.  299000.  179900.  299900.  239500.]\n",
      "[[ 399900.]\n",
      " [ 329900.]\n",
      " [ 369000.]\n",
      " [ 232000.]\n",
      " [ 539900.]\n",
      " [ 299900.]\n",
      " [ 314900.]\n",
      " [ 198999.]\n",
      " [ 212000.]\n",
      " [ 242500.]\n",
      " [ 239999.]\n",
      " [ 347000.]\n",
      " [ 329999.]\n",
      " [ 699900.]\n",
      " [ 259900.]\n",
      " [ 449900.]\n",
      " [ 299900.]\n",
      " [ 199900.]\n",
      " [ 499998.]\n",
      " [ 599000.]\n",
      " [ 252900.]\n",
      " [ 255000.]\n",
      " [ 242900.]\n",
      " [ 259900.]\n",
      " [ 573900.]\n",
      " [ 249900.]\n",
      " [ 464500.]\n",
      " [ 469000.]\n",
      " [ 475000.]\n",
      " [ 299900.]\n",
      " [ 349900.]\n",
      " [ 169900.]\n",
      " [ 314900.]\n",
      " [ 579900.]\n",
      " [ 285900.]\n",
      " [ 249900.]\n",
      " [ 229900.]\n",
      " [ 345000.]\n",
      " [ 549000.]\n",
      " [ 287000.]\n",
      " [ 368500.]\n",
      " [ 329900.]\n",
      " [ 314000.]\n",
      " [ 299000.]\n",
      " [ 179900.]\n",
      " [ 299900.]\n",
      " [ 239500.]]\n"
     ]
    }
   ],
   "source": [
    "#X = append_one(standard_transform(X))\n",
    "scalerX = StandardScaler()\n",
    "scalerY = StandardScaler()\n",
    "X = scalerX.fit_transform(X)\n",
    "X = np.append(np.ones(len(X)).reshape((len(X), 1)), X, axis=1)\n",
    "print (y)\n",
    "print (y.reshape(len(y), 1))\n",
    "y = scalerY.fit_transform(y.reshape(len(y), 1)).reshape(len(y))\n",
    "# print (y)"
   ]
  },
  {
   "cell_type": "code",
   "execution_count": 262,
   "metadata": {},
   "outputs": [],
   "source": [
    "#plt.xlabel(\"Area\")\n",
    "#plt.ylabel(\"Price\")\n",
    "#plt.plot(X[:, 0], y, 'ro')\n",
    "#plt.legend(loc = 0)"
   ]
  },
  {
   "cell_type": "code",
   "execution_count": 263,
   "metadata": {},
   "outputs": [],
   "source": [
    "def get_mse(regressor, xs, ys):    \n",
    "    predicted = np.apply_along_axis(regressor.predict, 1, xs)\n",
    "    return ((predicted - ys) ** 2).mean()\n",
    "\n",
    "def first_price(p):\n",
    "    print (p)\n",
    "    return scalerY.inverse_transform(p)[0]"
   ]
  },
  {
   "cell_type": "code",
   "execution_count": 280,
   "metadata": {},
   "outputs": [],
   "source": [
    "class LinearRegression:\n",
    "    def __init__(self, w = None, linearCoef = 0.5, numIter = 100):\n",
    "        self.baseW = w\n",
    "        self.linearCoef = linearCoef   \n",
    "        self.numIter = numIter\n",
    "        \n",
    "    def _grad_descend(self):\n",
    "        Xt = X.transpose()\n",
    "        m = X.shape[0]\n",
    "        mse = None\n",
    "        w = self.baseW\n",
    "        for i in range(self.numIter):\n",
    "            h = np.dot(X, w)\n",
    "            diff = h - y\n",
    "            grad = np.dot(Xt, diff) / m\n",
    "            mse = (diff ** 2).mean()\n",
    "            w -= (self.linearCoef[i] * grad)\n",
    "            \n",
    "        self.w = w      \n",
    "    \n",
    "    def fit(self, X, y):\n",
    "        self.X = X\n",
    "        self.y = y      \n",
    "        self._grad_descend()\n",
    "\n",
    "    def predict(self, X):               \n",
    "        return np.dot(X, self.w)\n",
    "    \n",
    "    def weights(self):\n",
    "        return self.w\n"
   ]
  },
  {
   "cell_type": "code",
   "execution_count": 281,
   "metadata": {},
   "outputs": [
    {
     "name": "stdout",
     "output_type": "stream",
     "text": [
      "0.267054981971\n",
      "[ -8.42710394e-17   8.84765988e-01  -5.31788197e-02]\n"
     ]
    }
   ],
   "source": [
    "m, n = X.shape\n",
    "w = np.ones(n)\n",
    "numIter = 1000\n",
    "linearCoef = [0.1] * numIter\n",
    "linearReg = LinearRegression(w = w, linearCoef = linearCoef, numIter = numIter)\n",
    "#print (kf_cross_validation(linearReg, X_learn, y_learn))\n",
    "linearReg.fit(X, y)\n",
    "print (get_mse(linearReg, X, y))\n",
    "print (linearReg.weights())"
   ]
  },
  {
   "cell_type": "code",
   "execution_count": 282,
   "metadata": {},
   "outputs": [],
   "source": [
    "def show_separator(weights):\n",
    "    for i, x in enumerate(X.transpose()[1:], 1):\n",
    "        plt.scatter(x, y)\n",
    "        plt.plot([x.min(), x.max()], [weights[0] + weights[i] * x.min(), weights[0] + weights[i] * x.max()])      \n",
    "        plt.ylabel('Scaled price')\n",
    "        plt.xlabel('Scaled %s' % ['area', 'rooms'][i-1])\n",
    "        plt.show()"
   ]
  },
  {
   "cell_type": "code",
   "execution_count": 283,
   "metadata": {},
   "outputs": [
    {
     "data": {
      "image/png": "[encoded data removed]",
      "text/plain": [
       "<matplotlib.figure.Figure at 0x7fd1f337d438>"
      ]
     },
     "metadata": {},
     "output_type": "display_data"
    },
    {
     "data": {
      "image/png": "[encoded data removed]",
      "text/plain": [
       "<matplotlib.figure.Figure at 0x7fd1f3798128>"
      ]
     },
     "metadata": {},
     "output_type": "display_data"
    }
   ],
   "source": [
    "linW = linearReg.weights()\n",
    "show_separator(linW)"
   ]
  },
  {
   "cell_type": "code",
   "execution_count": 287,
   "metadata": {},
   "outputs": [],
   "source": [
    "np.random.seed(53)\n",
    "\n",
    "def mutation(pop):\n",
    "    return pop + randn(*pop.shape)\n",
    "\n",
    "class GeneticReg:\n",
    "    def __init__(self, numIter = 100, popSize = 10, mutationCount = 5):        \n",
    "        self.numIter = numIter\n",
    "        self.popSize = popSize\n",
    "        self.mutationCount = mutationCount\n",
    "    \n",
    "    def gen_optimize(self):\n",
    "        m, n = self.X.shape\n",
    "        pop = np.zeros((self.popSize, n))\n",
    "        pops = []\n",
    "        mses = []        \n",
    "       \n",
    "        for i in range(numIter):\n",
    "            pops = pop.copy()\n",
    "            for j in range(self.mutationCount):\n",
    "                pops = np.append(pops, mutation(pop), axis=0)\n",
    "                        \n",
    "            mses = []\n",
    "            for j, single_pop in enumerate(pops):\n",
    "                h = np.dot(X, single_pop)\n",
    "                diff = h - y\n",
    "                mse = (diff ** 2).mean()\n",
    "                mses.append((mse, j))\n",
    "            mses = sorted(mses)\n",
    "            pop = pops[mses[0][1]].reshape(1, len(pops[mses[0][1]]))\n",
    "            if (mses[0][0] < 0.2):\n",
    "                break\n",
    "            for _, j in mses[1:self.popSize]:\n",
    "                pop = np.append(pop, pops[j].reshape(1, len(pops[j])), axis=0)                                    \n",
    "        \n",
    "        self.w = pops[mses[0][1]]\n",
    "    \n",
    "    def fit(self, X, y):\n",
    "        self.X = X\n",
    "        self.y = y      \n",
    "        self.gen_optimize()\n",
    "\n",
    "    def predict(self, X):               \n",
    "        return np.dot(X, self.w)\n",
    "    \n",
    "    def weights(self):\n",
    "        return self.w"
   ]
  },
  {
   "cell_type": "code",
   "execution_count": 288,
   "metadata": {},
   "outputs": [
    {
     "name": "stdout",
     "output_type": "stream",
     "text": [
      "0.268836197635\n",
      "[ -9.70076036e-06   8.34965832e-01  -1.64146213e-02]\n"
     ]
    }
   ],
   "source": [
    "genReg = GeneticReg()\n",
    "genReg.fit(X, y)\n",
    "print (get_mse(genReg, X, y))\n",
    "print (genReg.weights())"
   ]
  },
  {
   "cell_type": "code",
   "execution_count": 289,
   "metadata": {},
   "outputs": [
    {
     "data": {
      "image/png": "[encoded data removed]",
      "text/plain": [
       "<matplotlib.figure.Figure at 0x7fd22c30c3c8>"
      ]
     },
     "metadata": {},
     "output_type": "display_data"
    },
    {
     "data": {
      "image/png": "[encoded data removed]",
      "text/plain": [
       "<matplotlib.figure.Figure at 0x7fd1f3bc75f8>"
      ]
     },
     "metadata": {},
     "output_type": "display_data"
    }
   ],
   "source": [
    "genW = genReg.weights()\n",
    "show_separator(genW)"
   ]
  },
  {
   "cell_type": "code",
   "execution_count": 241,
   "metadata": {},
   "outputs": [
    {
     "name": "stdout",
     "output_type": "stream",
     "text": [
      "[ 0.12379381]\n",
      "355726.267643\n",
      "[ 0.10918083]\n",
      "353918.604942\n"
     ]
    }
   ],
   "source": [
    "exX = [[2100., 3.]]\n",
    "exX = append_one(scalerX.transform(exX))\n",
    "\n",
    "print (first_price(linearReg.predict(exX)))\n",
    "print (first_price(genReg.predict(exX)))"
   ]
  },
  {
   "cell_type": "code",
   "execution_count": null,
   "metadata": {},
   "outputs": [],
   "source": []
  }
 ],
 "metadata": {
  "kernelspec": {
   "display_name": "Python 3",
   "language": "python",
   "name": "python3"
  },
  "language_info": {
   "codemirror_mode": {
    "name": "ipython",
    "version": 3
   },
   "file_extension": ".py",
   "mimetype": "text/x-python",
   "name": "python",
   "nbconvert_exporter": "python",
   "pygments_lexer": "ipython3",
   "version": "3.5.2"
  }
 },
 "nbformat": 4,
 "nbformat_minor": 2
}
