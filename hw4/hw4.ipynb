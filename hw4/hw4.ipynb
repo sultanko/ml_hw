{
 "cells": [
  {
   "cell_type": "code",
   "execution_count": 13,
   "metadata": {},
   "outputs": [],
   "source": [
    "%matplotlib inline\n",
    "import numpy as np\n",
    "import scipy as sp\n",
    "import pandas as pd\n",
    "from mpl_toolkits.mplot3d import Axes3D\n",
    "import matplotlib.pyplot as plt\n",
    "from sklearn.cross_validation import cross_val_score\n",
    "#from IPython.display import display, clear_output\n",
    "from sklearn.base import BaseEstimator\n",
    "from sklearn.preprocessing import StandardScaler\n",
    "from sklearn.metrics import f1_score as sk_f1_score\n",
    "import itertools"
   ]
  },
  {
   "cell_type": "code",
   "execution_count": 14,
   "metadata": {},
   "outputs": [],
   "source": [
    "data = pd.read_csv('data/chips.txt', header=None, names=['X', 'Y', 'Class'])\n",
    "data = data.sample(frac=1, random_state=0)\n",
    "xs = data[['X', 'Y']].values\n",
    "ys = data['Class'].values\n",
    "\n",
    "xs = StandardScaler().fit_transform(xs)"
   ]
  },
  {
   "cell_type": "code",
   "execution_count": 15,
   "metadata": {},
   "outputs": [],
   "source": [
    "def f1_score(predicted, true):\n",
    "    #print (len(predicted))\n",
    "    #print (len(true))\n",
    "    tp = ((predicted == true) * (predicted == 1)).sum()\n",
    "    tn = ((predicted == true) * (predicted != 1)).sum()\n",
    "    fp = ((predicted != true) * (predicted == 1)).sum()\n",
    "    fn = ((predicted != true) * (predicted != 1)).sum()\n",
    "    p = tp*1.0/max(1, tp+fp)\n",
    "    r = tp*1.0/max(1, tp+fn)\n",
    "    return (2*p*r/max(1, p+r), tp, fn, fp, tn)"
   ]
  },
  {
   "cell_type": "code",
   "execution_count": 16,
   "metadata": {},
   "outputs": [],
   "source": [
    "def print_f1Nmatrix(t):\n",
    "    print(\"confusion matrix\")\n",
    "    print(\"    T   F\")\n",
    "    print(\"P \", t[1], t[3])\n",
    "    print(\"N \", t[4], t[2])\n",
    "    print(\"f1_score = \", t[0])"
   ]
  },
  {
   "cell_type": "code",
   "execution_count": 17,
   "metadata": {},
   "outputs": [],
   "source": [
    "def shuffle(X, y):\n",
    "    p = np.arange(0, X.shape[0])\n",
    "    np.random.shuffle(p)\n",
    "    return (X[p], y[p])\n",
    "\n",
    "np.random.seed(42)\n",
    "#xs, ys = shuffle(xs, ys)"
   ]
  },
  {
   "cell_type": "code",
   "execution_count": 18,
   "metadata": {},
   "outputs": [
    {
     "data": {
      "image/png": "[encoded data removed]",
      "text/plain": [
       "<matplotlib.figure.Figure at 0x7f459dbe2c18>"
      ]
     },
     "metadata": {},
     "output_type": "display_data"
    }
   ],
   "source": [
    "plot1 = data.plot(kind='scatter', x='X', y='Y', c='Class', grid=True)\n",
    "plot1.set_facecolor(\"gray\")"
   ]
  },
  {
   "cell_type": "code",
   "execution_count": 19,
   "metadata": {},
   "outputs": [],
   "source": [
    "#fig = plt.figure()\n",
    "#ax = fig.add_subplot(111, projection='3d')\n",
    "#ax.scatter(xs = data['X'], ys = data['Y'], zs = data['R'], c=data['Class'])"
   ]
  },
  {
   "cell_type": "code",
   "execution_count": 20,
   "metadata": {},
   "outputs": [],
   "source": [
    "def split(X, y, part=10):\n",
    "    p = X.shape[0] // part\n",
    "    return X[p:], y[p:], X[:p], y[:p]"
   ]
  },
  {
   "cell_type": "code",
   "execution_count": 21,
   "metadata": {},
   "outputs": [],
   "source": [
    "def space_function(x):\n",
    "    return np.array([x[0], x[1], x[0]**2+x[1]**2, x[0]**2+2*x[0]*x[1]+x[1]**2])    \n"
   ]
  },
  {
   "cell_type": "code",
   "execution_count": 22,
   "metadata": {},
   "outputs": [],
   "source": [
    "from sklearn.cross_validation import KFold\n",
    "def kf_cross_validation(regressor, xs, ys, n_fold=10, kf=None, **params):\n",
    "    measure = lambda x, y: f1_score(x, y)[0]\n",
    "    kf_sum = 0\n",
    "    f1_scores = []\n",
    "    if kf is None:\n",
    "        kf = KFold(len(xs), n_fold, True, 0)\n",
    "    fold_num = 0\n",
    "    P = 100\n",
    "    for train_i, test_i in kf:\n",
    "        regressor.fit(xs[train_i], ys[train_i], **params)\n",
    "        predicted = regressor.predict(xs[test_i])\n",
    "        meas = measure(predicted, ys[test_i])\n",
    "        f1_scores.append(meas*P)\n",
    "        kf_sum += meas\n",
    "        fold_num += 1        \n",
    "    return (kf_sum/len(kf), np.array(f1_scores))"
   ]
  },
  {
   "cell_type": "code",
   "execution_count": 23,
   "metadata": {},
   "outputs": [],
   "source": [
    "# create a mesh to plot in\n",
    "def draw_mesh(svm, xs, ys):\n",
    "    x_min, x_max = xs[:, 0].min() - 1, xs[:, 0].max() + 1\n",
    "    y_min, y_max = xs[:, 1].min() - 1, xs[:, 1].max() + 1\n",
    "    hx = (x_max - x_min) / 100\n",
    "    hy = (y_max - y_min) / 100\n",
    "    xx, yy = np.meshgrid(np.arange(x_min, x_max, hx),\n",
    "    np.arange(y_min, y_max, hy))\n",
    "    #print (y_min, y_max, h)\n",
    "    plt.subplot(1, 1, 1)    \n",
    "    Z = svm.predict(np.c_[xx.ravel(), yy.ravel()])\n",
    "    Z = Z.reshape(xx.shape)\n",
    "    plt.contourf(xx, yy, Z, cmap=plt.cm.Paired, alpha=0.8)\n",
    "    plt.scatter(xs[:, 0], xs[:, 1], c=ys, cmap=plt.cm.Paired)\n",
    "    plt.xlabel('Sepal length')\n",
    "    plt.ylabel('Sepal width')\n",
    "    plt.xlim(xx.min(), xx.max())\n",
    "    plt.title('SVC with linear kernel')\n",
    "    plt.show()"
   ]
  },
  {
   "cell_type": "code",
   "execution_count": 24,
   "metadata": {},
   "outputs": [],
   "source": [
    "def kernel_simple(x, y):\n",
    "    return np.dot(x, y)\n",
    "\n",
    "def kernel_poly(x, y):\n",
    "    return np.dot(x, y) ** 2\n",
    "\n",
    "def kernel_poly_1(x, y):\n",
    "    return (np.dot(x,y) + 1)**2\n",
    "\n",
    "# 1\n",
    "# 0.5\n",
    "def kernel_radial(x, y):\n",
    "    return np.exp(-(np.linalg.norm(x - y) ** 2) / 1)\n",
    "\n",
    "class SVM(BaseEstimator):\n",
    "    def __init__(self, C, K = kernel_simple):\n",
    "        self.K = K        \n",
    "        self.C = C        \n",
    "        \n",
    "    def get_params(self, deep=False):\n",
    "        \n",
    "        return {\"C\": self.C,\n",
    "                \"K\": self.K, \n",
    "                \"l\": self.l,\n",
    "                \"X\": self.X,\n",
    "                \"Y\": self.Y\n",
    "               }\n",
    "\n",
    "    def set_params(self, **params):\n",
    "        self.C = params[\"C\"]\n",
    "        self.K = params[\"K\"] \n",
    "        self.Y = params[\"X\"] \n",
    "        self.Y = params[\"Y\"]\n",
    "        self.l = params[\"l\"] \n",
    "        \n",
    "    def fit(self, X, Y):\n",
    "        N = len(X)\n",
    "        Y = np.apply_along_axis(lambda t: 2 * t - 1, 0, Y)        \n",
    "\n",
    "        construct_H = lambda i, j: self.K(X[i], X[j]) * Y[i] * Y[j]\n",
    "        H = np.fromfunction(np.vectorize(construct_H), (N, N), dtype=int)\n",
    "        c = -np.ones(N)        \n",
    "        x0 = np.ones(N)\n",
    "        cons = [ {\"type\": \"ineq\", \"fun\": lambda x: self.C * np.ones(N) - x, \"jac\": lambda x: -np.eye(N)}\n",
    "               , {\"type\": \"ineq\", \"fun\": lambda x: x,                       \"jac\": lambda x:  np.eye(N)}\n",
    "               , {\"type\": \"eq\",   \"fun\": lambda x: np.dot(Y, x),      \"jac\": lambda x: Y} ]\n",
    "        opt = {\"disp\": False}\n",
    "\n",
    "        # solve constrained minimization problem using quadratic programming solver\n",
    "        loss = lambda x: 0.5 * np.dot(x.T, np.dot(H, x)) + np.dot(c, x)\n",
    "        jac = lambda x: np.dot(x.T, H) + c\n",
    "        res = sp.optimize.minimize(loss, x0, jac=jac, constraints=cons, method=\"SLSQP\", options=opt)\n",
    "\n",
    "        # find w, w0\n",
    "        self.w = np.dot(res.x * Y, X)\n",
    "        self.l = res.x * Y\n",
    "        self.X = X\n",
    "        self.Y = Y        \n",
    "        for i, w_i in enumerate(res.x):\n",
    "            if w_i > 0:\n",
    "                self.w0 = self.K(self.w, X[i]) - Y[i]\n",
    "                break\n",
    "    \n",
    "    def predict(self, x):                \n",
    "        n = len(x)\n",
    "        res = [-self.w0] * n        \n",
    "        for j in range(n):            \n",
    "            res[j] += np.dot(self.l, \n",
    "                             np.apply_along_axis(lambda t : self.K(t, x[j]), 1, self.X))\n",
    "            \n",
    "        return (np.sign(res)  + 1)/2        "
   ]
  },
  {
   "cell_type": "code",
   "execution_count": 25,
   "metadata": {},
   "outputs": [],
   "source": [
    "#svm = SVM(C = 10, K = kernel_simple)\n",
    "#svm.fit(xs, ys)\n",
    "#pr = svm.predict(xs)\n",
    "#print_f1Nmatrix(f1_score(pr, ys))"
   ]
  },
  {
   "cell_type": "code",
   "execution_count": 26,
   "metadata": {},
   "outputs": [
    {
     "name": "stdout",
     "output_type": "stream",
     "text": [
      "phi (x, y, x**2+y**2, 2xy)\n",
      "C = 1\n",
      "f1_score = 0.660970695971\n",
      "--------------------------------------------------\n",
      "C = 10\n",
      "f1_score = 0.792472558401\n",
      "--------------------------------------------------\n",
      "C = 100\n",
      "f1_score = 0.713153235653\n",
      "--------------------------------------------------\n",
      "C = 500\n",
      "f1_score = 0.678537151703\n",
      "--------------------------------------------------\n"
     ]
    }
   ],
   "source": [
    "print(\"phi (x, y, x**2+y**2, 2xy)\")\n",
    "for C in [1, 10, 100, 500]:\n",
    "    svm = SVM(C = C, K = kernel_radial )\n",
    "    print(\"C =\", C)    \n",
    "    print(\"f1_score =\", kf_cross_validation(svm, xs, ys)[0])        \n",
    "    print(\"--------------------------------------------------\")"
   ]
  },
  {
   "cell_type": "code",
   "execution_count": 27,
   "metadata": {},
   "outputs": [],
   "source": [
    "best_c = 10\n",
    "best_f1_sc = 0\n",
    "for ic in range(8, 12):\n",
    "    svm = SVM(C = ic, K = kernel_radial )\n",
    "    f1_sc_t = kf_cross_validation(svm, xs, ys)[0];\n",
    "    if (f1_sc_t > best_f1_sc):\n",
    "        best_c = ic\n",
    "        best_f1_sc = f1_sc_t"
   ]
  },
  {
   "cell_type": "code",
   "execution_count": 28,
   "metadata": {},
   "outputs": [
    {
     "name": "stdout",
     "output_type": "stream",
     "text": [
      "Full dataset, C =  11\n",
      "confusion matrix\n",
      "    T   F\n",
      "P  55 14\n",
      "N  46 3\n",
      "f1_score =  0.866141732283\n",
      "--------------------------------------------------\n"
     ]
    }
   ],
   "source": [
    "print(\"Full dataset, C = \", best_c)\n",
    "svm = SVM(C = best_c, K = kernel_radial)\n",
    "svm.fit(xs, ys)\n",
    "prediction_svm = svm.predict(xs)\n",
    "print_f1Nmatrix(f1_score(prediction_svm, ys))\n",
    "print(\"--------------------------------------------------\")"
   ]
  },
  {
   "cell_type": "code",
   "execution_count": 29,
   "metadata": {},
   "outputs": [
    {
     "data": {
      "image/png": "[encoded data removed]",
      "text/plain": [
       "<matplotlib.figure.Figure at 0x7f459dcf9908>"
      ]
     },
     "metadata": {},
     "output_type": "display_data"
    }
   ],
   "source": [
    "draw_mesh(svm, xs, ys)"
   ]
  },
  {
   "cell_type": "code",
   "execution_count": null,
   "metadata": {},
   "outputs": [],
   "source": [
    "def wilcoxon(x, y):\n",
    "    assert len(x) == len(y)\n",
    "    d = x - y\n",
    "    d = np.compress(np.not_equal(d, 0), d, axis=-1)\n",
    "    count = len(d)  \n",
    "    r = np.sort(abs(d))    \n",
    "    nr = len(r)\n",
    "    for i in range(0, nr):\n",
    "        j = i\n",
    "        while j < nr and r[i] == r[j]:\n",
    "            j += 1\n",
    "        r[i:j] = (j*(j-1)/2 - i*(i-1)/2) / (j - i)    \n",
    "    W = sum(r * np.sign(d))\n",
    "    z_score = W / np.sqrt(nr*(nr+1)*(2*nr+1)/6)\n",
    "    return W, z_score\n"
   ]
  },
  {
   "cell_type": "code",
   "execution_count": null,
   "metadata": {},
   "outputs": [
    {
     "name": "stdout",
     "output_type": "stream",
     "text": [
      "KNN f1_score: 0.722972203235\n"
     ]
    }
   ],
   "source": [
    "import knn\n",
    "n_fold = 7\n",
    "kf = KFold(len(xs), n_fold, True, 7)\n",
    "\n",
    "knn = knn.KNN()\n",
    "svm = SVM(C = best_c, K = kernel_radial)\n",
    "\n",
    "f1_knn, f1_scoresKnn = kf_cross_validation(knn, xs, ys, kf=kf, k=3, weight_f='uniform', metric_f='l2')\n",
    "print(\"KNN f1_score:\", f1_knn)\n",
    "f1_svm, f1_scoresSvm = kf_cross_validation(svm, xs, ys, kf=kf)\n",
    "print(\"SVM f1_score:\", f1_svm)"
   ]
  },
  {
   "cell_type": "code",
   "execution_count": null,
   "metadata": {},
   "outputs": [],
   "source": [
    "print(\"Wilcoxon\")\n",
    "wilcoxon(f1_scoresSvm, f1_scoresKnn)"
   ]
  },
  {
   "cell_type": "code",
   "execution_count": null,
   "metadata": {},
   "outputs": [],
   "source": [
    "pValueTable =[\n",
    "[ 0, 0.995,0.99,0.975,   0.95, 0.9,  0.1,  0.05,0.025,0.01,0.005],\n",
    "[ 1,  0,0 ,0.001, 0.004 ,0.016,2.706, 3.841, 5.024, 6.635, 7.879],\n",
    "[ 2, 0.01 , 0.02 ,0.051,0.103,0.211,4.605 ,5.991  ,7.378  ,9.21   ,10.597],\n",
    "[ 3, 0.072, 0.115,0.216,0.352,0.584,6.251 ,7.815  ,9.348  ,11.345 ,12.838],\n",
    "[ 4, 0.207, 0.297,0.484,0.711,1.064,7.779 ,9.488  ,11.143 ,13.277 ,14.86],\n",
    "[ 5, 0.412, 0.554,0.831,1.145,1.61 ,9.236 ,11.07  ,12.833 ,15.086 ,16.75],\n",
    "[ 6, 0.676, 0.872,1.237,1.635,2.204,10.645, 12.592, 14.449, 16.812, 18.548],\n",
    "[ 7, 0.989, 1.239,1.69 ,2.167,2.833,12.017, 14.067, 16.013, 18.475, 20.278],\n",
    "[ 8, 1.344, 1.646,2.18 ,2.733,3.49 ,13.362, 15.507, 17.535, 20.09 , 21.955],\n",
    "[ 9, 1.735, 2.088,2.7,  3.325,4.168,14.684, 16.919, 19.023, 21.666, 23.589],\n",
    "[ 10, 2.156,2.558,3.247,3.94 ,4.865,15.989, 18.307, 20.483, 23.209, 25.188],\n",
    "[ 11, 2.603,3.053,3.816,4.575,5.578,17.275, 19.675, 21.92 ,24.725 ,26.757]]\n",
    "\n",
    "def khiSquare(exp, obs):\n",
    "    x2 = ((obs-exp)**2/exp).sum()\n",
    "    print(\"x^2 =\", x2)\n",
    "    \n",
    "    r = len(exp) - 1\n",
    "    j = 1\n",
    "    while (j < len(pValueTable[r]) - 1 and x2 > pValueTable[r][j]):\n",
    "        j += 1\n",
    "    return pValueTable[0][j]\n",
    "\n",
    "print(\"pValue\")\n",
    "print(khiSquare(f1_scoresKnn, f1_scoresSvm))"
   ]
  },
  {
   "cell_type": "code",
   "execution_count": null,
   "metadata": {},
   "outputs": [],
   "source": []
  }
 ],
 "metadata": {
  "kernelspec": {
   "display_name": "Python 3",
   "language": "python",
   "name": "python3"
  },
  "language_info": {
   "codemirror_mode": {
    "name": "ipython",
    "version": 3
   },
   "file_extension": ".py",
   "mimetype": "text/x-python",
   "name": "python",
   "nbconvert_exporter": "python",
   "pygments_lexer": "ipython3",
   "version": "3.5.2"
  }
 },
 "nbformat": 4,
 "nbformat_minor": 1
}
