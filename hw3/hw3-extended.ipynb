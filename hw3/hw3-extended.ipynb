{
 "cells": [
  {
   "cell_type": "code",
   "execution_count": 1,
   "metadata": {},
   "outputs": [
    {
     "name": "stderr",
     "output_type": "stream",
     "text": [
      "/home/pokrasko/.local/lib/python3.6/site-packages/sklearn/cross_validation.py:41: DeprecationWarning: This module was deprecated in version 0.18 in favor of the model_selection module into which all the refactored classes and functions are moved. Also note that the interface of the new CV iterators are different from that of this module. This module will be removed in 0.20.\n",
      "  \"This module will be removed in 0.20.\", DeprecationWarning)\n"
     ]
    }
   ],
   "source": [
    "%matplotlib inline\n",
    "import pandas as pd\n",
    "import scipy as sp\n",
    "import numpy as np\n",
    "import matplotlib.pyplot as plt\n",
    "import seaborn as sns\n",
    "import glob\n",
    "\n",
    "from math import log\n",
    "from sklearn.base import BaseEstimator\n",
    "from sklearn.cross_validation import cross_val_score, train_test_split\n",
    "from sklearn.metrics import confusion_matrix, make_scorer"
   ]
  },
  {
   "cell_type": "code",
   "execution_count": 2,
   "metadata": {
    "collapsed": true
   },
   "outputs": [],
   "source": [
    "def add_map(mp, key, val):\n",
    "    if key not in mp:\n",
    "        mp[key] = val\n",
    "    else:\n",
    "        mp[key] += val\n",
    "\n",
    "def make_data_entry(filename):\n",
    "    res = {}\n",
    "    res['is_spam'] = \"spmsg\" in filename\n",
    "    with open(filename, 'r') as f:\n",
    "        l = next(f)\n",
    "        for n in l.split()[1:]:\n",
    "            res[0, int(n)] = 1\n",
    "        for l in f:\n",
    "            for n in l.split():\n",
    "                res[1, int(n)] = 1\n",
    "    return res    \n",
    "\n",
    "def make_dataset():\n",
    "    files = glob.glob('data/part*/*.txt')\n",
    "    entries = list(map(make_data_entry, files))\n",
    "    return pd.DataFrame.from_dict(entries)"
   ]
  },
  {
   "cell_type": "code",
   "execution_count": 3,
   "metadata": {
    "collapsed": true
   },
   "outputs": [],
   "source": [
    "data = make_dataset().fillna(0)"
   ]
  },
  {
   "cell_type": "code",
   "execution_count": 4,
   "metadata": {
    "scrolled": false
   },
   "outputs": [
    {
     "data": {
      "text/html": [
       "<div>\n",
       "<style>\n",
       "    .dataframe thead tr:only-child th {\n",
       "        text-align: right;\n",
       "    }\n",
       "\n",
       "    .dataframe thead th {\n",
       "        text-align: left;\n",
       "    }\n",
       "\n",
       "    .dataframe tbody tr th {\n",
       "        vertical-align: top;\n",
       "    }\n",
       "</style>\n",
       "<table border=\"1\" class=\"dataframe\">\n",
       "  <thead>\n",
       "    <tr style=\"text-align: right;\">\n",
       "      <th></th>\n",
       "      <th>is_spam</th>\n",
       "      <th>(0, 14486)</th>\n",
       "      <th>(1, 14486)</th>\n",
       "      <th>(1, 80)</th>\n",
       "      <th>(1, 196)</th>\n",
       "      <th>(1, 64)</th>\n",
       "      <th>(1, 1896)</th>\n",
       "      <th>(1, 8962)</th>\n",
       "      <th>(1, 14328)</th>\n",
       "      <th>(1, 2130)</th>\n",
       "      <th>...</th>\n",
       "      <th>(1, 15561)</th>\n",
       "      <th>(1, 15330)</th>\n",
       "      <th>(1, 11289)</th>\n",
       "      <th>(1, 547)</th>\n",
       "      <th>(1, 15318)</th>\n",
       "      <th>(1, 238)</th>\n",
       "      <th>(1, 21957)</th>\n",
       "      <th>(1, 1402)</th>\n",
       "      <th>(1, 17219)</th>\n",
       "      <th>(1, 19609)</th>\n",
       "    </tr>\n",
       "  </thead>\n",
       "  <tbody>\n",
       "    <tr>\n",
       "      <th>0</th>\n",
       "      <td>True</td>\n",
       "      <td>1.0</td>\n",
       "      <td>1.0</td>\n",
       "      <td>1.0</td>\n",
       "      <td>1.0</td>\n",
       "      <td>1.0</td>\n",
       "      <td>1.0</td>\n",
       "      <td>1.0</td>\n",
       "      <td>1.0</td>\n",
       "      <td>1.0</td>\n",
       "      <td>...</td>\n",
       "      <td>0.0</td>\n",
       "      <td>0.0</td>\n",
       "      <td>0.0</td>\n",
       "      <td>0.0</td>\n",
       "      <td>0.0</td>\n",
       "      <td>0.0</td>\n",
       "      <td>0.0</td>\n",
       "      <td>0.0</td>\n",
       "      <td>0.0</td>\n",
       "      <td>0.0</td>\n",
       "    </tr>\n",
       "    <tr>\n",
       "      <th>1</th>\n",
       "      <td>True</td>\n",
       "      <td>0.0</td>\n",
       "      <td>0.0</td>\n",
       "      <td>1.0</td>\n",
       "      <td>0.0</td>\n",
       "      <td>1.0</td>\n",
       "      <td>0.0</td>\n",
       "      <td>1.0</td>\n",
       "      <td>0.0</td>\n",
       "      <td>1.0</td>\n",
       "      <td>...</td>\n",
       "      <td>0.0</td>\n",
       "      <td>0.0</td>\n",
       "      <td>0.0</td>\n",
       "      <td>0.0</td>\n",
       "      <td>0.0</td>\n",
       "      <td>0.0</td>\n",
       "      <td>0.0</td>\n",
       "      <td>0.0</td>\n",
       "      <td>0.0</td>\n",
       "      <td>0.0</td>\n",
       "    </tr>\n",
       "    <tr>\n",
       "      <th>2</th>\n",
       "      <td>True</td>\n",
       "      <td>0.0</td>\n",
       "      <td>0.0</td>\n",
       "      <td>1.0</td>\n",
       "      <td>0.0</td>\n",
       "      <td>0.0</td>\n",
       "      <td>0.0</td>\n",
       "      <td>1.0</td>\n",
       "      <td>1.0</td>\n",
       "      <td>1.0</td>\n",
       "      <td>...</td>\n",
       "      <td>0.0</td>\n",
       "      <td>0.0</td>\n",
       "      <td>0.0</td>\n",
       "      <td>0.0</td>\n",
       "      <td>0.0</td>\n",
       "      <td>0.0</td>\n",
       "      <td>0.0</td>\n",
       "      <td>0.0</td>\n",
       "      <td>0.0</td>\n",
       "      <td>0.0</td>\n",
       "    </tr>\n",
       "    <tr>\n",
       "      <th>3</th>\n",
       "      <td>True</td>\n",
       "      <td>0.0</td>\n",
       "      <td>0.0</td>\n",
       "      <td>1.0</td>\n",
       "      <td>0.0</td>\n",
       "      <td>0.0</td>\n",
       "      <td>0.0</td>\n",
       "      <td>0.0</td>\n",
       "      <td>0.0</td>\n",
       "      <td>0.0</td>\n",
       "      <td>...</td>\n",
       "      <td>0.0</td>\n",
       "      <td>0.0</td>\n",
       "      <td>0.0</td>\n",
       "      <td>0.0</td>\n",
       "      <td>0.0</td>\n",
       "      <td>0.0</td>\n",
       "      <td>0.0</td>\n",
       "      <td>0.0</td>\n",
       "      <td>0.0</td>\n",
       "      <td>0.0</td>\n",
       "    </tr>\n",
       "    <tr>\n",
       "      <th>4</th>\n",
       "      <td>False</td>\n",
       "      <td>0.0</td>\n",
       "      <td>0.0</td>\n",
       "      <td>1.0</td>\n",
       "      <td>0.0</td>\n",
       "      <td>0.0</td>\n",
       "      <td>0.0</td>\n",
       "      <td>0.0</td>\n",
       "      <td>0.0</td>\n",
       "      <td>1.0</td>\n",
       "      <td>...</td>\n",
       "      <td>0.0</td>\n",
       "      <td>0.0</td>\n",
       "      <td>0.0</td>\n",
       "      <td>0.0</td>\n",
       "      <td>0.0</td>\n",
       "      <td>0.0</td>\n",
       "      <td>0.0</td>\n",
       "      <td>0.0</td>\n",
       "      <td>0.0</td>\n",
       "      <td>0.0</td>\n",
       "    </tr>\n",
       "  </tbody>\n",
       "</table>\n",
       "<p>5 rows × 26283 columns</p>\n",
       "</div>"
      ],
      "text/plain": [
       "   is_spam  (0, 14486)  (1, 14486)  (1, 80)  (1, 196)  (1, 64)  (1, 1896)  \\\n",
       "0     True         1.0         1.0      1.0       1.0      1.0        1.0   \n",
       "1     True         0.0         0.0      1.0       0.0      1.0        0.0   \n",
       "2     True         0.0         0.0      1.0       0.0      0.0        0.0   \n",
       "3     True         0.0         0.0      1.0       0.0      0.0        0.0   \n",
       "4    False         0.0         0.0      1.0       0.0      0.0        0.0   \n",
       "\n",
       "   (1, 8962)  (1, 14328)  (1, 2130)     ...      (1, 15561)  (1, 15330)  \\\n",
       "0        1.0         1.0        1.0     ...             0.0         0.0   \n",
       "1        1.0         0.0        1.0     ...             0.0         0.0   \n",
       "2        1.0         1.0        1.0     ...             0.0         0.0   \n",
       "3        0.0         0.0        0.0     ...             0.0         0.0   \n",
       "4        0.0         0.0        1.0     ...             0.0         0.0   \n",
       "\n",
       "   (1, 11289)  (1, 547)  (1, 15318)  (1, 238)  (1, 21957)  (1, 1402)  \\\n",
       "0         0.0       0.0         0.0       0.0         0.0        0.0   \n",
       "1         0.0       0.0         0.0       0.0         0.0        0.0   \n",
       "2         0.0       0.0         0.0       0.0         0.0        0.0   \n",
       "3         0.0       0.0         0.0       0.0         0.0        0.0   \n",
       "4         0.0       0.0         0.0       0.0         0.0        0.0   \n",
       "\n",
       "   (1, 17219)  (1, 19609)  \n",
       "0         0.0         0.0  \n",
       "1         0.0         0.0  \n",
       "2         0.0         0.0  \n",
       "3         0.0         0.0  \n",
       "4         0.0         0.0  \n",
       "\n",
       "[5 rows x 26283 columns]"
      ]
     },
     "execution_count": 4,
     "metadata": {},
     "output_type": "execute_result"
    }
   ],
   "source": [
    "data.head()"
   ]
  },
  {
   "cell_type": "code",
   "execution_count": 5,
   "metadata": {
    "collapsed": true
   },
   "outputs": [],
   "source": [
    "def accuracy_score(true, predicted):\n",
    "    return (predicted == true).sum() / len(true)\n",
    "\n",
    "def f1_score(true, predicted):\n",
    "    tp = ((predicted == 1) * (true == 1)).sum()\n",
    "    rec = tp / (true == 1).sum()\n",
    "    prec = tp / (predicted == 1).sum()\n",
    "    return 2 * prec * rec / (prec + rec)"
   ]
  },
  {
   "cell_type": "code",
   "execution_count": 6,
   "metadata": {
    "collapsed": true
   },
   "outputs": [],
   "source": [
    "class NaiveBayes(BaseEstimator):\n",
    "    \n",
    "    def __init__(self, smooth_coef=1e-5, lambdas=None):\n",
    "        self.smooth_coef = smooth_coef\n",
    "        self.lambdas = lambdas\n",
    "        \n",
    "    def fit(self, X, y):\n",
    "        total_counts = np.sum(X, axis=0)\n",
    "        total_words = np.sum(total_counts)\n",
    "        classes = np.unique(y)\n",
    "        \n",
    "        if self.lambdas is None:\n",
    "            self.lambdas = np.ones(classes.shape[0])\n",
    "            \n",
    "        self.classes = classes\n",
    "        self.word_probas = np.zeros((classes.shape[0], total_counts.shape[0]))\n",
    "        self.class_probas = np.zeros(classes.shape[0])\n",
    "        for cl in classes:\n",
    "            cl_count = y[y == cl].shape[0]\n",
    "\n",
    "            # smooth_coef затем, чтобы не вышло нулевых вероятностей\n",
    "            self.word_probas[cl] = (np.sum(X[y == cl], axis=0) + self.smooth_coef) / (cl_count + self.smooth_coef * y.shape[0])\n",
    "            self.class_probas[cl] = float(cl_count) / y.shape[0]\n",
    "    \n",
    "    def class_log_proba(self, x, cl):\n",
    "        return self.lambdas[cl] + np.log(self.class_probas[cl]) + np.sum(np.log(self.word_probas[cl][x > 0]))\n",
    "    \n",
    "    def predict_log_proba(self, X):\n",
    "        probas = np.zeros((X.shape[0], self.classes.shape[0]))\n",
    "        for i in np.arange(0, X.shape[0]):\n",
    "            for cl in self.classes:\n",
    "                probas[i][cl] = self.class_log_proba(X[i], cl)\n",
    "        return probas\n",
    "        \n",
    "    def predict(self, X):\n",
    "        return np.argmax(self.predict_log_proba(X), axis=1)\n",
    "    \n",
    "    def score(self, X, y):\n",
    "        return accuracy_score(y, self.predict(X))"
   ]
  },
  {
   "cell_type": "code",
   "execution_count": 7,
   "metadata": {
    "collapsed": true
   },
   "outputs": [],
   "source": [
    "X = data.drop('is_spam', axis=1).values\n",
    "y = data['is_spam'].values.astype(int)\n",
    "X_train, X_test, y_train, y_test = train_test_split(X, y,\n",
    "                                                    test_size=0.2,\n",
    "                                                    random_state=43)"
   ]
  },
  {
   "cell_type": "code",
   "execution_count": 9,
   "metadata": {},
   "outputs": [
    {
     "name": "stdout",
     "output_type": "stream",
     "text": [
      "1090 26282\n"
     ]
    }
   ],
   "source": [
    "print(X.shape[0], X.shape[1])"
   ]
  },
  {
   "cell_type": "code",
   "execution_count": 10,
   "metadata": {
    "collapsed": true
   },
   "outputs": [],
   "source": [
    "nb = NaiveBayes()\n",
    "nb.fit(X_train, y_train)\n",
    "y_pred = nb.predict(X_test)"
   ]
  },
  {
   "cell_type": "code",
   "execution_count": 11,
   "metadata": {},
   "outputs": [
    {
     "data": {
      "text/plain": [
       "0.9678899082568807"
      ]
     },
     "execution_count": 11,
     "metadata": {},
     "output_type": "execute_result"
    }
   ],
   "source": [
    "accuracy_score(y_test, y_pred)"
   ]
  },
  {
   "cell_type": "code",
   "execution_count": 12,
   "metadata": {},
   "outputs": [
    {
     "data": {
      "text/plain": [
       "0.96373056994818662"
      ]
     },
     "execution_count": 12,
     "metadata": {},
     "output_type": "execute_result"
    }
   ],
   "source": [
    "f1_score(y_test, y_pred)"
   ]
  },
  {
   "cell_type": "code",
   "execution_count": 13,
   "metadata": {},
   "outputs": [
    {
     "data": {
      "text/plain": [
       "0.97981651376146794"
      ]
     },
     "execution_count": 13,
     "metadata": {},
     "output_type": "execute_result"
    }
   ],
   "source": [
    "cv_acc_scores = cross_val_score(NaiveBayes(), X, y, scoring=make_scorer(accuracy_score), cv=10)\n",
    "cv_acc_scores.mean()"
   ]
  },
  {
   "cell_type": "code",
   "execution_count": 14,
   "metadata": {},
   "outputs": [
    {
     "data": {
      "text/plain": [
       "0.97705256603918078"
      ]
     },
     "execution_count": 14,
     "metadata": {},
     "output_type": "execute_result"
    }
   ],
   "source": [
    "cv_f1_scores = cross_val_score(NaiveBayes(), X, y, scoring=make_scorer(f1_score), cv=10)\n",
    "cv_f1_scores.mean()"
   ]
  },
  {
   "cell_type": "code",
   "execution_count": 15,
   "metadata": {
    "scrolled": true
   },
   "outputs": [
    {
     "data": {
      "text/plain": [
       "array([[118,   2],\n",
       "       [  5,  93]])"
      ]
     },
     "execution_count": 15,
     "metadata": {},
     "output_type": "execute_result"
    }
   ],
   "source": [
    "confusion_matrix(y_test, y_pred)"
   ]
  },
  {
   "cell_type": "code",
   "execution_count": 16,
   "metadata": {
    "collapsed": true
   },
   "outputs": [],
   "source": [
    "def class_accuracy(y_test, y_pred, cl):\n",
    "    y_cl = y_test[y_test == cl]\n",
    "    y_pr = y_pred[y_test == cl]\n",
    "    return float(np.sum(y_cl == y_pr)) / y_cl.shape[0]"
   ]
  },
  {
   "cell_type": "code",
   "execution_count": 17,
   "metadata": {},
   "outputs": [
    {
     "data": {
      "text/plain": [
       "0.9833333333333333"
      ]
     },
     "execution_count": 17,
     "metadata": {},
     "output_type": "execute_result"
    }
   ],
   "source": [
    "class_accuracy(y_test, y_pred, 0)"
   ]
  },
  {
   "cell_type": "code",
   "execution_count": 18,
   "metadata": {},
   "outputs": [
    {
     "data": {
      "text/plain": [
       "0.9489795918367347"
      ]
     },
     "execution_count": 18,
     "metadata": {},
     "output_type": "execute_result"
    }
   ],
   "source": [
    "class_accuracy(y_test, y_pred, 1)"
   ]
  },
  {
   "cell_type": "code",
   "execution_count": 23,
   "metadata": {},
   "outputs": [
    {
     "name": "stdout",
     "output_type": "stream",
     "text": [
      "CPU times: user 4 µs, sys: 2 µs, total: 6 µs\n",
      "Wall time: 9.78 µs\n"
     ]
    },
    {
     "data": {
      "image/png": "[encoded data removed]",
      "text/plain": [
       "<matplotlib.figure.Figure at 0x7f5ab25a0ef0>"
      ]
     },
     "metadata": {},
     "output_type": "display_data"
    }
   ],
   "source": [
    "%time\n",
    "ls = np.arange(1, 300, 5)\n",
    "sc0 = []\n",
    "sc1 = []\n",
    "\n",
    "for l in ls:\n",
    "    nbc = NaiveBayes(lambdas=[l, 1])\n",
    "    nbc.fit(X_train, y_train)\n",
    "    y_pred = nbc.predict(X_test)\n",
    "    \n",
    "    sc0.append(class_accuracy(y_test, y_pred, 0))\n",
    "    sc1.append(class_accuracy(y_test, y_pred, 1))\n",
    "\n",
    "plt.plot(ls, sc0, 'r-', ls, sc1, 'b-')\n",
    "plt.xlabel('Weight of \"false spam\" error')\n",
    "plt.ylabel('Success ratio')\n",
    "plt.legend(['Ham', 'Spam'])\n",
    "plt.grid()\n",
    "plt.show()"
   ]
  },
  {
   "cell_type": "code",
   "execution_count": 29,
   "metadata": {},
   "outputs": [
    {
     "name": "stdout",
     "output_type": "stream",
     "text": [
      "Ham recall: 1.0\n",
      "Spam recall: 0.24489795918367346\n"
     ]
    }
   ],
   "source": [
    "nbc = NaiveBayes(lambdas=[500, 1])\n",
    "nbc.fit(X_train, y_train)\n",
    "y_pred = nbc.predict(X_test)\n",
    "print('Ham recall: {}'.format(class_accuracy(y_test, y_pred, 0)))\n",
    "print('Spam recall: {}'.format(class_accuracy(y_test, y_pred, 1)))"
   ]
  }
 ],
 "metadata": {
  "git": {
   "suppress_outputs": true
  },
  "kernelspec": {
   "display_name": "Python 3",
   "language": "python",
   "name": "python3"
  },
  "language_info": {
   "codemirror_mode": {
    "name": "ipython",
    "version": 3
   },
   "file_extension": ".py",
   "mimetype": "text/x-python",
   "name": "python",
   "nbconvert_exporter": "python",
   "pygments_lexer": "ipython3",
   "version": "3.6.2"
  }
 },
 "nbformat": 4,
 "nbformat_minor": 1
}
