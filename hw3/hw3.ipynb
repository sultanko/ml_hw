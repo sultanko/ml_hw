{
 "cells": [
  {
   "cell_type": "code",
   "execution_count": 2,
   "metadata": {},
   "outputs": [],
   "source": [
    "%matplotlib inline\n",
    "import pandas as pd\n",
    "import scipy as sp\n",
    "import numpy as np\n",
    "import matplotlib.pyplot as plt\n",
    "import seaborn as sns\n",
    "import glob\n",
    "\n",
    "from math import ceil, log\n",
    "from sklearn.base import BaseEstimator\n",
    "from sklearn.cross_validation import cross_val_score, train_test_split\n",
    "from sklearn.metrics import confusion_matrix, make_scorer"
   ]
  },
  {
   "cell_type": "code",
   "execution_count": 3,
   "metadata": {
    "collapsed": true
   },
   "outputs": [],
   "source": [
    "def add_map(mp, key, val):\n",
    "    if key not in mp:\n",
    "        mp[key] = val\n",
    "    else:\n",
    "        mp[key] += val\n",
    "\n",
    "def make_data_entry(filename):\n",
    "    res = {}\n",
    "    res['is_spam'] = \"spmsg\" in filename\n",
    "    with open(filename, 'r') as f:\n",
    "        l = next(f)\n",
    "        for n in l.split()[1:]:\n",
    "            res[int(n)] = 1\n",
    "        for l in f:\n",
    "            for n in l.split():\n",
    "                res[int(n)] = 1\n",
    "    return res    \n",
    "\n",
    "def make_dataset():\n",
    "    files = glob.glob('data/part*/*.txt')\n",
    "    entries = list(map(make_data_entry, files))\n",
    "    return pd.DataFrame.from_dict(entries)"
   ]
  },
  {
   "cell_type": "code",
   "execution_count": 4,
   "metadata": {
    "collapsed": true
   },
   "outputs": [],
   "source": [
    "data = make_dataset().fillna(0)"
   ]
  },
  {
   "cell_type": "code",
   "execution_count": 5,
   "metadata": {
    "scrolled": true
   },
   "outputs": [],
   "source": [
    "data.head()"
   ]
  },
  {
   "cell_type": "code",
   "execution_count": 6,
   "metadata": {
    "collapsed": true
   },
   "outputs": [],
   "source": [
    "def accuracy_score(true, predicted):\n",
    "    return (predicted == true).sum() / len(true)\n",
    "\n",
    "def f1_score(true, predicted):\n",
    "    tp = ((predicted == 1) * (true == 1)).sum()\n",
    "    rec = tp / (true == 1).sum()\n",
    "    prec = tp / (predicted == 1).sum()\n",
    "    return 2 * prec * rec / (prec + rec)"
   ]
  },
  {
   "cell_type": "code",
   "execution_count": 7,
   "metadata": {
    "collapsed": true
   },
   "outputs": [],
   "source": [
    "def simple_selector(probs):\n",
    "    return np.argmax(probs, axis=1)\n",
    "\n",
    "def threshold_selector(probs, threshold):\n",
    "    return np.array([1 if p[1] - p[0] > threshold else 0 for p in probs])\n",
    "\n",
    "def threshold_selector_factory(threshold):\n",
    "    return lambda probs: threshold_selector(probs, threshold)\n",
    "\n",
    "def recall0_selector(probs, true_classes, recall):\n",
    "    diffs = np.array([p[1] - p[0] for p in probs])\n",
    "    class0_diffs = np.sort(diffs[np.nonzero(true_classes == 0)])\n",
    "    if (recall == 0):\n",
    "        return np.array([1 if d >= class0_diffs[0] else 0 for d in diffs])\n",
    "    else:\n",
    "        k = ceil(class0_diffs.shape[0] * recall)\n",
    "        print(\"Used threshold:\", class0_diffs[k - 1])\n",
    "        return np.array([1 if d > class0_diffs[k - 1] else 0 for d in diffs])\n",
    "\n",
    "def recall0_selector_factory(true_classes, recall):\n",
    "    return lambda probs: recall0_selector(probs, true_classes, recall)"
   ]
  },
  {
   "cell_type": "code",
   "execution_count": 8,
   "metadata": {},
   "outputs": [],
   "source": [
    "class NaiveBayes(BaseEstimator):\n",
    "    \n",
    "    def __init__(self, smooth_coef=1e-20, lambdas=None, selector=simple_selector):\n",
    "        self.smooth_coef = smooth_coef\n",
    "        self.lambdas = lambdas\n",
    "        self.selector = selector\n",
    "        \n",
    "    def fit(self, X, y):\n",
    "        total_counts = np.sum(X, axis=0)\n",
    "        total_words = np.sum(total_counts)\n",
    "        classes = np.unique(y)\n",
    "        \n",
    "        if self.lambdas is None:\n",
    "            self.lambdas = np.ones(classes.shape[0])\n",
    "            \n",
    "        self.classes = classes\n",
    "        self.word_probas = np.zeros((classes.shape[0], total_counts.shape[0]))\n",
    "        self.class_probas = np.zeros(classes.shape[0])\n",
    "        for cl in classes:\n",
    "            cl_count = y[y == cl].shape[0]\n",
    "\n",
    "            # smooth_coef \u0437\u0430\u0442\u0435\u043c, \u0447\u0442\u043e\u0431\u044b \u043d\u0435 \u0432\u044b\u0448\u043b\u043e \u043d\u0443\u043b\u0435\u0432\u044b\u0445 \u0432\u0435\u0440\u043e\u044f\u0442\u043d\u043e\u0441\u0442\u0435\u0439\n",
    "            self.word_probas[cl] = (np.sum(X[y == cl], axis=0) + self.smooth_coef) / (cl_count + self.smooth_coef * y.shape[0])\n",
    "            self.class_probas[cl] = float(cl_count) / y.shape[0]\n",
    "    \n",
    "    def class_log_proba(self, x, cl):\n",
    "        return self.lambdas[cl] + np.log(self.class_probas[cl]) + np.sum(np.log(self.word_probas[cl][x > 0]))\n",
    "    \n",
    "    def predict_log_proba(self, X):\n",
    "        probas = np.zeros((X.shape[0], self.classes.shape[0]))\n",
    "        for i in np.arange(0, X.shape[0]):\n",
    "            for cl in self.classes:\n",
    "                probas[i][cl] = self.class_log_proba(X[i], cl)\n",
    "        return probas\n",
    "        \n",
    "    def predict(self, X):\n",
    "        probas = self.predict_log_proba(X)\n",
    "        return self.selector(self.predict_log_proba(X))\n",
    "    \n",
    "    def score(self, X, y):\n",
    "        return accuracy_score(y, self.predict(X))"
   ]
  },
  {
   "cell_type": "code",
   "execution_count": 9,
   "metadata": {
    "collapsed": true
   },
   "outputs": [],
   "source": [
    "def class_accuracy(y_test, y_pred, cl):\n",
    "    y_cl = y_test[y_test == cl]\n",
    "    y_pr = y_pred[y_test == cl]\n",
    "    return float(np.sum(y_cl == y_pr)) / y_cl.shape[0]"
   ]
  },
  {
   "cell_type": "code",
   "execution_count": 10,
   "metadata": {
    "collapsed": true
   },
   "outputs": [],
   "source": [
    "X = data.drop('is_spam', axis=1).values\n",
    "y = data['is_spam'].values.astype(int)\n",
    "X_train, X_test, y_train, y_test = train_test_split(X, y,\n",
    "                                                    test_size=0.2,\n",
    "                                                    random_state=43)"
   ]
  },
  {
   "cell_type": "code",
   "execution_count": 11,
   "metadata": {
    "scrolled": false
   },
   "outputs": [],
   "source": [
    "nb = NaiveBayes(selector=recall0_selector_factory(y_test, 1.0))\n",
    "nb.fit(X_train, y_train)\n",
    "y_pred = nb.predict(X_test)\n",
    "print(\"Ham recall:\", class_accuracy(y_test, y_pred, 0))\n",
    "print(\"Spam recall:\", class_accuracy(y_test, y_pred, 1))"
   ]
  },
  {
   "cell_type": "code",
   "execution_count": 16,
   "metadata": {},
   "outputs": [],
   "source": [
    "nb1 = NaiveBayes(selector=threshold_selector_factory(345.0))\n",
    "nb1.fit(X_train, y_train)\n",
    "y_pred1 = nb1.predict(X_test)\n",
    "print(\"Used threshold: 174.0\")\n",
    "print(\"Ham recall:\", class_accuracy(y_test, y_pred1, 0))\n",
    "print(\"Spam recall:\", class_accuracy(y_test, y_pred1, 1))"
   ]
  },
  {
   "cell_type": "code",
   "execution_count": 18,
   "metadata": {},
   "outputs": [],
   "source": [
    "nb2 = NaiveBayes(selector=threshold_selector_factory(400.0))\n",
    "nb2.fit(X_train, y_train)\n",
    "y_pred2 = nb2.predict(X_test)\n",
    "print(\"Used threshold: 176.0\")\n",
    "print(\"Ham recall:\", class_accuracy(y_test, y_pred2, 0))\n",
    "print(\"Spam recall:\", class_accuracy(y_test, y_pred2, 1))"
   ]
  },
  {
   "cell_type": "code",
   "execution_count": 14,
   "metadata": {
    "scrolled": false
   },
   "outputs": [],
   "source": [
    "accuracy_score(y_test, y_pred)"
   ]
  },
  {
   "cell_type": "code",
   "execution_count": 15,
   "metadata": {
    "scrolled": true
   },
   "outputs": [],
   "source": [
    "f1_score(y_test, y_pred)"
   ]
  },
  {
   "cell_type": "code",
   "execution_count": 94,
   "metadata": {
    "scrolled": true
   },
   "outputs": [],
   "source": [
    "confusion_matrix(y_test, y_pred)"
   ]
  },
  {
   "cell_type": "code",
   "execution_count": 17,
   "metadata": {
    "scrolled": true
   },
   "outputs": [],
   "source": [
    "%time\n",
    "ls = np.arange(1, 300, 5)\n",
    "sc0 = []\n",
    "sc1 = []\n",
    "\n",
    "for l in ls:\n",
    "    nbc = NaiveBayes(lambdas=[l, 1])\n",
    "    nbc.fit(X_train, y_train)\n",
    "    y_pred = nbc.predict(X_test)\n",
    "    \n",
    "    sc0.append(class_accuracy(y_test, y_pred, 0))\n",
    "    sc1.append(class_accuracy(y_test, y_pred, 1))\n",
    "\n",
    "plt.plot(ls, sc0, 'r-', ls, sc1, 'b-')\n",
    "plt.xlabel('Weight of \"false spam\" error')\n",
    "plt.ylabel('Success ratio')\n",
    "plt.legend(['Ham', 'Spam'])\n",
    "plt.grid()\n",
    "plt.show()"
   ]
  },
  {
   "cell_type": "code",
   "execution_count": 92,
   "metadata": {},
   "outputs": [],
   "source": [
    "nbc = NaiveBayes(lambdas=[1, 1])\n",
    "nbc.fit(X_train, y_train)\n",
    "y_pred = nbc.predict(X_test)\n",
    "print('Ham recall: {}'.format(class_accuracy(y_test, y_pred, 0)))\n",
    "print('Spam recall: {}'.format(class_accuracy(y_test, y_pred, 1)))"
   ]
  },
  {
   "cell_type": "code",
   "execution_count": 115,
   "metadata": {},
   "outputs": [],
   "source": [
    "cv_acc_scores = cross_val_score(NaiveBayes(), X, y, scoring=make_scorer(accuracy_score), cv=10)\n",
    "cv_acc_scores.mean()"
   ]
  },
  {
   "cell_type": "code",
   "execution_count": 116,
   "metadata": {},
   "outputs": [],
   "source": [
    "cv_f1_scores = cross_val_score(NaiveBayes(), X, y, scoring=make_scorer(f1_score), cv=10)\n",
    "cv_f1_scores.mean()"
   ]
  }
 ],
 "metadata": {
  "git": {
   "suppress_outputs": true
  },
  "kernelspec": {
   "display_name": "Python 3",
   "language": "python",
   "name": "python3"
  },
  "language_info": {
   "codemirror_mode": {
    "name": "ipython",
    "version": 3
   },
   "file_extension": ".py",
   "mimetype": "text/x-python",
   "name": "python",
   "nbconvert_exporter": "python",
   "pygments_lexer": "ipython3",
   "version": "3.6.2"
  }
 },
 "nbformat": 4,
 "nbformat_minor": 1
}